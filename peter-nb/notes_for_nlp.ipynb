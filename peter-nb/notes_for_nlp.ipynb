{
 "cells": [
  {
   "cell_type": "code",
   "execution_count": 1,
   "metadata": {
    "collapsed": true
   },
   "outputs": [],
   "source": [
    "import re\n",
    "import random\n",
    "from collections import Counter\n",
    "import string"
   ]
  },
  {
   "cell_type": "code",
   "execution_count": 11,
   "metadata": {
    "collapsed": true
   },
   "outputs": [],
   "source": [
    "%matplotlib notebook\n",
    "import matplotlib.pyplot as plt"
   ]
  },
  {
   "cell_type": "markdown",
   "metadata": {},
   "source": [
    "## Text to words"
   ]
  },
  {
   "cell_type": "code",
   "execution_count": 2,
   "metadata": {
    "collapsed": false
   },
   "outputs": [
    {
     "data": {
      "text/plain": [
       "100000000"
      ]
     },
     "execution_count": 2,
     "metadata": {},
     "output_type": "execute_result"
    }
   ],
   "source": [
    "TEXT = open(\"/home/dola/ws/data/text8\").read()\n",
    "len(TEXT)"
   ]
  },
  {
   "cell_type": "code",
   "execution_count": 3,
   "metadata": {
    "collapsed": true
   },
   "outputs": [],
   "source": [
    "def tokens(text):\n",
    "    return re.findall(r\"[a-z]+\", text.lower())"
   ]
  },
  {
   "cell_type": "code",
   "execution_count": 4,
   "metadata": {
    "collapsed": false
   },
   "outputs": [
    {
     "data": {
      "text/plain": [
       "['this', 'is', 'a', 'test', 'this', 'is']"
      ]
     },
     "execution_count": 4,
     "metadata": {},
     "output_type": "execute_result"
    }
   ],
   "source": [
    "tokens(\"This is: A test, 1, 2, 3, this is.\")"
   ]
  },
  {
   "cell_type": "code",
   "execution_count": 5,
   "metadata": {
    "collapsed": false
   },
   "outputs": [
    {
     "data": {
      "text/plain": [
       "17005207"
      ]
     },
     "execution_count": 5,
     "metadata": {},
     "output_type": "execute_result"
    }
   ],
   "source": [
    "WORDS = tokens(TEXT)\n",
    "len(WORDS)"
   ]
  },
  {
   "cell_type": "code",
   "execution_count": 6,
   "metadata": {
    "collapsed": false
   },
   "outputs": [
    {
     "data": {
      "text/plain": [
       "['company', 'national', 'waiting', 'these', 'zero']"
      ]
     },
     "execution_count": 6,
     "metadata": {},
     "output_type": "execute_result"
    }
   ],
   "source": [
    "random.sample(WORDS, 5)"
   ]
  },
  {
   "cell_type": "markdown",
   "metadata": {},
   "source": [
    "## Models by Bag of words"
   ]
  },
  {
   "cell_type": "code",
   "execution_count": 9,
   "metadata": {
    "collapsed": false
   },
   "outputs": [],
   "source": [
    "## bag of words model\n",
    "COUNTS = Counter(WORDS)"
   ]
  },
  {
   "cell_type": "code",
   "execution_count": 10,
   "metadata": {
    "collapsed": false
   },
   "outputs": [
    {
     "data": {
      "text/plain": [
       "[('the', 1061396),\n",
       " ('of', 593677),\n",
       " ('and', 416629),\n",
       " ('one', 411764),\n",
       " ('in', 372201)]"
      ]
     },
     "execution_count": 10,
     "metadata": {},
     "output_type": "execute_result"
    }
   ],
   "source": [
    "COUNTS.most_common(5)"
   ]
  },
  {
   "cell_type": "code",
   "execution_count": 13,
   "metadata": {
    "collapsed": false
   },
   "outputs": [
    {
     "data": {
      "application/javascript": [
       "/* Put everything inside the global mpl namespace */\n",
       "window.mpl = {};\n",
       "\n",
       "\n",
       "mpl.get_websocket_type = function() {\n",
       "    if (typeof(WebSocket) !== 'undefined') {\n",
       "        return WebSocket;\n",
       "    } else if (typeof(MozWebSocket) !== 'undefined') {\n",
       "        return MozWebSocket;\n",
       "    } else {\n",
       "        alert('Your browser does not have WebSocket support.' +\n",
       "              'Please try Chrome, Safari or Firefox ≥ 6. ' +\n",
       "              'Firefox 4 and 5 are also supported but you ' +\n",
       "              'have to enable WebSockets in about:config.');\n",
       "    };\n",
       "}\n",
       "\n",
       "mpl.figure = function(figure_id, websocket, ondownload, parent_element) {\n",
       "    this.id = figure_id;\n",
       "\n",
       "    this.ws = websocket;\n",
       "\n",
       "    this.supports_binary = (this.ws.binaryType != undefined);\n",
       "\n",
       "    if (!this.supports_binary) {\n",
       "        var warnings = document.getElementById(\"mpl-warnings\");\n",
       "        if (warnings) {\n",
       "            warnings.style.display = 'block';\n",
       "            warnings.textContent = (\n",
       "                \"This browser does not support binary websocket messages. \" +\n",
       "                    \"Performance may be slow.\");\n",
       "        }\n",
       "    }\n",
       "\n",
       "    this.imageObj = new Image();\n",
       "\n",
       "    this.context = undefined;\n",
       "    this.message = undefined;\n",
       "    this.canvas = undefined;\n",
       "    this.rubberband_canvas = undefined;\n",
       "    this.rubberband_context = undefined;\n",
       "    this.format_dropdown = undefined;\n",
       "\n",
       "    this.image_mode = 'full';\n",
       "\n",
       "    this.root = $('<div/>');\n",
       "    this._root_extra_style(this.root)\n",
       "    this.root.attr('style', 'display: inline-block');\n",
       "\n",
       "    $(parent_element).append(this.root);\n",
       "\n",
       "    this._init_header(this);\n",
       "    this._init_canvas(this);\n",
       "    this._init_toolbar(this);\n",
       "\n",
       "    var fig = this;\n",
       "\n",
       "    this.waiting = false;\n",
       "\n",
       "    this.ws.onopen =  function () {\n",
       "            fig.send_message(\"supports_binary\", {value: fig.supports_binary});\n",
       "            fig.send_message(\"send_image_mode\", {});\n",
       "            if (mpl.ratio != 1) {\n",
       "                fig.send_message(\"set_dpi_ratio\", {'dpi_ratio': mpl.ratio});\n",
       "            }\n",
       "            fig.send_message(\"refresh\", {});\n",
       "        }\n",
       "\n",
       "    this.imageObj.onload = function() {\n",
       "            if (fig.image_mode == 'full') {\n",
       "                // Full images could contain transparency (where diff images\n",
       "                // almost always do), so we need to clear the canvas so that\n",
       "                // there is no ghosting.\n",
       "                fig.context.clearRect(0, 0, fig.canvas.width, fig.canvas.height);\n",
       "            }\n",
       "            fig.context.drawImage(fig.imageObj, 0, 0);\n",
       "        };\n",
       "\n",
       "    this.imageObj.onunload = function() {\n",
       "        this.ws.close();\n",
       "    }\n",
       "\n",
       "    this.ws.onmessage = this._make_on_message_function(this);\n",
       "\n",
       "    this.ondownload = ondownload;\n",
       "}\n",
       "\n",
       "mpl.figure.prototype._init_header = function() {\n",
       "    var titlebar = $(\n",
       "        '<div class=\"ui-dialog-titlebar ui-widget-header ui-corner-all ' +\n",
       "        'ui-helper-clearfix\"/>');\n",
       "    var titletext = $(\n",
       "        '<div class=\"ui-dialog-title\" style=\"width: 100%; ' +\n",
       "        'text-align: center; padding: 3px;\"/>');\n",
       "    titlebar.append(titletext)\n",
       "    this.root.append(titlebar);\n",
       "    this.header = titletext[0];\n",
       "}\n",
       "\n",
       "\n",
       "\n",
       "mpl.figure.prototype._canvas_extra_style = function(canvas_div) {\n",
       "\n",
       "}\n",
       "\n",
       "\n",
       "mpl.figure.prototype._root_extra_style = function(canvas_div) {\n",
       "\n",
       "}\n",
       "\n",
       "mpl.figure.prototype._init_canvas = function() {\n",
       "    var fig = this;\n",
       "\n",
       "    var canvas_div = $('<div/>');\n",
       "\n",
       "    canvas_div.attr('style', 'position: relative; clear: both; outline: 0');\n",
       "\n",
       "    function canvas_keyboard_event(event) {\n",
       "        return fig.key_event(event, event['data']);\n",
       "    }\n",
       "\n",
       "    canvas_div.keydown('key_press', canvas_keyboard_event);\n",
       "    canvas_div.keyup('key_release', canvas_keyboard_event);\n",
       "    this.canvas_div = canvas_div\n",
       "    this._canvas_extra_style(canvas_div)\n",
       "    this.root.append(canvas_div);\n",
       "\n",
       "    var canvas = $('<canvas/>');\n",
       "    canvas.addClass('mpl-canvas');\n",
       "    canvas.attr('style', \"left: 0; top: 0; z-index: 0; outline: 0\")\n",
       "\n",
       "    this.canvas = canvas[0];\n",
       "    this.context = canvas[0].getContext(\"2d\");\n",
       "\n",
       "    var backingStore = this.context.backingStorePixelRatio ||\n",
       "\tthis.context.webkitBackingStorePixelRatio ||\n",
       "\tthis.context.mozBackingStorePixelRatio ||\n",
       "\tthis.context.msBackingStorePixelRatio ||\n",
       "\tthis.context.oBackingStorePixelRatio ||\n",
       "\tthis.context.backingStorePixelRatio || 1;\n",
       "\n",
       "    mpl.ratio = (window.devicePixelRatio || 1) / backingStore;\n",
       "\n",
       "    var rubberband = $('<canvas/>');\n",
       "    rubberband.attr('style', \"position: absolute; left: 0; top: 0; z-index: 1;\")\n",
       "\n",
       "    var pass_mouse_events = true;\n",
       "\n",
       "    canvas_div.resizable({\n",
       "        start: function(event, ui) {\n",
       "            pass_mouse_events = false;\n",
       "        },\n",
       "        resize: function(event, ui) {\n",
       "            fig.request_resize(ui.size.width, ui.size.height);\n",
       "        },\n",
       "        stop: function(event, ui) {\n",
       "            pass_mouse_events = true;\n",
       "            fig.request_resize(ui.size.width, ui.size.height);\n",
       "        },\n",
       "    });\n",
       "\n",
       "    function mouse_event_fn(event) {\n",
       "        if (pass_mouse_events)\n",
       "            return fig.mouse_event(event, event['data']);\n",
       "    }\n",
       "\n",
       "    rubberband.mousedown('button_press', mouse_event_fn);\n",
       "    rubberband.mouseup('button_release', mouse_event_fn);\n",
       "    // Throttle sequential mouse events to 1 every 20ms.\n",
       "    rubberband.mousemove('motion_notify', mouse_event_fn);\n",
       "\n",
       "    rubberband.mouseenter('figure_enter', mouse_event_fn);\n",
       "    rubberband.mouseleave('figure_leave', mouse_event_fn);\n",
       "\n",
       "    canvas_div.on(\"wheel\", function (event) {\n",
       "        event = event.originalEvent;\n",
       "        event['data'] = 'scroll'\n",
       "        if (event.deltaY < 0) {\n",
       "            event.step = 1;\n",
       "        } else {\n",
       "            event.step = -1;\n",
       "        }\n",
       "        mouse_event_fn(event);\n",
       "    });\n",
       "\n",
       "    canvas_div.append(canvas);\n",
       "    canvas_div.append(rubberband);\n",
       "\n",
       "    this.rubberband = rubberband;\n",
       "    this.rubberband_canvas = rubberband[0];\n",
       "    this.rubberband_context = rubberband[0].getContext(\"2d\");\n",
       "    this.rubberband_context.strokeStyle = \"#000000\";\n",
       "\n",
       "    this._resize_canvas = function(width, height) {\n",
       "        // Keep the size of the canvas, canvas container, and rubber band\n",
       "        // canvas in synch.\n",
       "        canvas_div.css('width', width)\n",
       "        canvas_div.css('height', height)\n",
       "\n",
       "        canvas.attr('width', width * mpl.ratio);\n",
       "        canvas.attr('height', height * mpl.ratio);\n",
       "        canvas.attr('style', 'width: ' + width + 'px; height: ' + height + 'px;');\n",
       "\n",
       "        rubberband.attr('width', width);\n",
       "        rubberband.attr('height', height);\n",
       "    }\n",
       "\n",
       "    // Set the figure to an initial 600x600px, this will subsequently be updated\n",
       "    // upon first draw.\n",
       "    this._resize_canvas(600, 600);\n",
       "\n",
       "    // Disable right mouse context menu.\n",
       "    $(this.rubberband_canvas).bind(\"contextmenu\",function(e){\n",
       "        return false;\n",
       "    });\n",
       "\n",
       "    function set_focus () {\n",
       "        canvas.focus();\n",
       "        canvas_div.focus();\n",
       "    }\n",
       "\n",
       "    window.setTimeout(set_focus, 100);\n",
       "}\n",
       "\n",
       "mpl.figure.prototype._init_toolbar = function() {\n",
       "    var fig = this;\n",
       "\n",
       "    var nav_element = $('<div/>')\n",
       "    nav_element.attr('style', 'width: 100%');\n",
       "    this.root.append(nav_element);\n",
       "\n",
       "    // Define a callback function for later on.\n",
       "    function toolbar_event(event) {\n",
       "        return fig.toolbar_button_onclick(event['data']);\n",
       "    }\n",
       "    function toolbar_mouse_event(event) {\n",
       "        return fig.toolbar_button_onmouseover(event['data']);\n",
       "    }\n",
       "\n",
       "    for(var toolbar_ind in mpl.toolbar_items) {\n",
       "        var name = mpl.toolbar_items[toolbar_ind][0];\n",
       "        var tooltip = mpl.toolbar_items[toolbar_ind][1];\n",
       "        var image = mpl.toolbar_items[toolbar_ind][2];\n",
       "        var method_name = mpl.toolbar_items[toolbar_ind][3];\n",
       "\n",
       "        if (!name) {\n",
       "            // put a spacer in here.\n",
       "            continue;\n",
       "        }\n",
       "        var button = $('<button/>');\n",
       "        button.addClass('ui-button ui-widget ui-state-default ui-corner-all ' +\n",
       "                        'ui-button-icon-only');\n",
       "        button.attr('role', 'button');\n",
       "        button.attr('aria-disabled', 'false');\n",
       "        button.click(method_name, toolbar_event);\n",
       "        button.mouseover(tooltip, toolbar_mouse_event);\n",
       "\n",
       "        var icon_img = $('<span/>');\n",
       "        icon_img.addClass('ui-button-icon-primary ui-icon');\n",
       "        icon_img.addClass(image);\n",
       "        icon_img.addClass('ui-corner-all');\n",
       "\n",
       "        var tooltip_span = $('<span/>');\n",
       "        tooltip_span.addClass('ui-button-text');\n",
       "        tooltip_span.html(tooltip);\n",
       "\n",
       "        button.append(icon_img);\n",
       "        button.append(tooltip_span);\n",
       "\n",
       "        nav_element.append(button);\n",
       "    }\n",
       "\n",
       "    var fmt_picker_span = $('<span/>');\n",
       "\n",
       "    var fmt_picker = $('<select/>');\n",
       "    fmt_picker.addClass('mpl-toolbar-option ui-widget ui-widget-content');\n",
       "    fmt_picker_span.append(fmt_picker);\n",
       "    nav_element.append(fmt_picker_span);\n",
       "    this.format_dropdown = fmt_picker[0];\n",
       "\n",
       "    for (var ind in mpl.extensions) {\n",
       "        var fmt = mpl.extensions[ind];\n",
       "        var option = $(\n",
       "            '<option/>', {selected: fmt === mpl.default_extension}).html(fmt);\n",
       "        fmt_picker.append(option)\n",
       "    }\n",
       "\n",
       "    // Add hover states to the ui-buttons\n",
       "    $( \".ui-button\" ).hover(\n",
       "        function() { $(this).addClass(\"ui-state-hover\");},\n",
       "        function() { $(this).removeClass(\"ui-state-hover\");}\n",
       "    );\n",
       "\n",
       "    var status_bar = $('<span class=\"mpl-message\"/>');\n",
       "    nav_element.append(status_bar);\n",
       "    this.message = status_bar[0];\n",
       "}\n",
       "\n",
       "mpl.figure.prototype.request_resize = function(x_pixels, y_pixels) {\n",
       "    // Request matplotlib to resize the figure. Matplotlib will then trigger a resize in the client,\n",
       "    // which will in turn request a refresh of the image.\n",
       "    this.send_message('resize', {'width': x_pixels, 'height': y_pixels});\n",
       "}\n",
       "\n",
       "mpl.figure.prototype.send_message = function(type, properties) {\n",
       "    properties['type'] = type;\n",
       "    properties['figure_id'] = this.id;\n",
       "    this.ws.send(JSON.stringify(properties));\n",
       "}\n",
       "\n",
       "mpl.figure.prototype.send_draw_message = function() {\n",
       "    if (!this.waiting) {\n",
       "        this.waiting = true;\n",
       "        this.ws.send(JSON.stringify({type: \"draw\", figure_id: this.id}));\n",
       "    }\n",
       "}\n",
       "\n",
       "\n",
       "mpl.figure.prototype.handle_save = function(fig, msg) {\n",
       "    var format_dropdown = fig.format_dropdown;\n",
       "    var format = format_dropdown.options[format_dropdown.selectedIndex].value;\n",
       "    fig.ondownload(fig, format);\n",
       "}\n",
       "\n",
       "\n",
       "mpl.figure.prototype.handle_resize = function(fig, msg) {\n",
       "    var size = msg['size'];\n",
       "    if (size[0] != fig.canvas.width || size[1] != fig.canvas.height) {\n",
       "        fig._resize_canvas(size[0], size[1]);\n",
       "        fig.send_message(\"refresh\", {});\n",
       "    };\n",
       "}\n",
       "\n",
       "mpl.figure.prototype.handle_rubberband = function(fig, msg) {\n",
       "    var x0 = msg['x0'] / mpl.ratio;\n",
       "    var y0 = (fig.canvas.height - msg['y0']) / mpl.ratio;\n",
       "    var x1 = msg['x1'] / mpl.ratio;\n",
       "    var y1 = (fig.canvas.height - msg['y1']) / mpl.ratio;\n",
       "    x0 = Math.floor(x0) + 0.5;\n",
       "    y0 = Math.floor(y0) + 0.5;\n",
       "    x1 = Math.floor(x1) + 0.5;\n",
       "    y1 = Math.floor(y1) + 0.5;\n",
       "    var min_x = Math.min(x0, x1);\n",
       "    var min_y = Math.min(y0, y1);\n",
       "    var width = Math.abs(x1 - x0);\n",
       "    var height = Math.abs(y1 - y0);\n",
       "\n",
       "    fig.rubberband_context.clearRect(\n",
       "        0, 0, fig.canvas.width, fig.canvas.height);\n",
       "\n",
       "    fig.rubberband_context.strokeRect(min_x, min_y, width, height);\n",
       "}\n",
       "\n",
       "mpl.figure.prototype.handle_figure_label = function(fig, msg) {\n",
       "    // Updates the figure title.\n",
       "    fig.header.textContent = msg['label'];\n",
       "}\n",
       "\n",
       "mpl.figure.prototype.handle_cursor = function(fig, msg) {\n",
       "    var cursor = msg['cursor'];\n",
       "    switch(cursor)\n",
       "    {\n",
       "    case 0:\n",
       "        cursor = 'pointer';\n",
       "        break;\n",
       "    case 1:\n",
       "        cursor = 'default';\n",
       "        break;\n",
       "    case 2:\n",
       "        cursor = 'crosshair';\n",
       "        break;\n",
       "    case 3:\n",
       "        cursor = 'move';\n",
       "        break;\n",
       "    }\n",
       "    fig.rubberband_canvas.style.cursor = cursor;\n",
       "}\n",
       "\n",
       "mpl.figure.prototype.handle_message = function(fig, msg) {\n",
       "    fig.message.textContent = msg['message'];\n",
       "}\n",
       "\n",
       "mpl.figure.prototype.handle_draw = function(fig, msg) {\n",
       "    // Request the server to send over a new figure.\n",
       "    fig.send_draw_message();\n",
       "}\n",
       "\n",
       "mpl.figure.prototype.handle_image_mode = function(fig, msg) {\n",
       "    fig.image_mode = msg['mode'];\n",
       "}\n",
       "\n",
       "mpl.figure.prototype.updated_canvas_event = function() {\n",
       "    // Called whenever the canvas gets updated.\n",
       "    this.send_message(\"ack\", {});\n",
       "}\n",
       "\n",
       "// A function to construct a web socket function for onmessage handling.\n",
       "// Called in the figure constructor.\n",
       "mpl.figure.prototype._make_on_message_function = function(fig) {\n",
       "    return function socket_on_message(evt) {\n",
       "        if (evt.data instanceof Blob) {\n",
       "            /* FIXME: We get \"Resource interpreted as Image but\n",
       "             * transferred with MIME type text/plain:\" errors on\n",
       "             * Chrome.  But how to set the MIME type?  It doesn't seem\n",
       "             * to be part of the websocket stream */\n",
       "            evt.data.type = \"image/png\";\n",
       "\n",
       "            /* Free the memory for the previous frames */\n",
       "            if (fig.imageObj.src) {\n",
       "                (window.URL || window.webkitURL).revokeObjectURL(\n",
       "                    fig.imageObj.src);\n",
       "            }\n",
       "\n",
       "            fig.imageObj.src = (window.URL || window.webkitURL).createObjectURL(\n",
       "                evt.data);\n",
       "            fig.updated_canvas_event();\n",
       "            fig.waiting = false;\n",
       "            return;\n",
       "        }\n",
       "        else if (typeof evt.data === 'string' && evt.data.slice(0, 21) == \"data:image/png;base64\") {\n",
       "            fig.imageObj.src = evt.data;\n",
       "            fig.updated_canvas_event();\n",
       "            fig.waiting = false;\n",
       "            return;\n",
       "        }\n",
       "\n",
       "        var msg = JSON.parse(evt.data);\n",
       "        var msg_type = msg['type'];\n",
       "\n",
       "        // Call the  \"handle_{type}\" callback, which takes\n",
       "        // the figure and JSON message as its only arguments.\n",
       "        try {\n",
       "            var callback = fig[\"handle_\" + msg_type];\n",
       "        } catch (e) {\n",
       "            console.log(\"No handler for the '\" + msg_type + \"' message type: \", msg);\n",
       "            return;\n",
       "        }\n",
       "\n",
       "        if (callback) {\n",
       "            try {\n",
       "                // console.log(\"Handling '\" + msg_type + \"' message: \", msg);\n",
       "                callback(fig, msg);\n",
       "            } catch (e) {\n",
       "                console.log(\"Exception inside the 'handler_\" + msg_type + \"' callback:\", e, e.stack, msg);\n",
       "            }\n",
       "        }\n",
       "    };\n",
       "}\n",
       "\n",
       "// from http://stackoverflow.com/questions/1114465/getting-mouse-location-in-canvas\n",
       "mpl.findpos = function(e) {\n",
       "    //this section is from http://www.quirksmode.org/js/events_properties.html\n",
       "    var targ;\n",
       "    if (!e)\n",
       "        e = window.event;\n",
       "    if (e.target)\n",
       "        targ = e.target;\n",
       "    else if (e.srcElement)\n",
       "        targ = e.srcElement;\n",
       "    if (targ.nodeType == 3) // defeat Safari bug\n",
       "        targ = targ.parentNode;\n",
       "\n",
       "    // jQuery normalizes the pageX and pageY\n",
       "    // pageX,Y are the mouse positions relative to the document\n",
       "    // offset() returns the position of the element relative to the document\n",
       "    var x = e.pageX - $(targ).offset().left;\n",
       "    var y = e.pageY - $(targ).offset().top;\n",
       "\n",
       "    return {\"x\": x, \"y\": y};\n",
       "};\n",
       "\n",
       "/*\n",
       " * return a copy of an object with only non-object keys\n",
       " * we need this to avoid circular references\n",
       " * http://stackoverflow.com/a/24161582/3208463\n",
       " */\n",
       "function simpleKeys (original) {\n",
       "  return Object.keys(original).reduce(function (obj, key) {\n",
       "    if (typeof original[key] !== 'object')\n",
       "        obj[key] = original[key]\n",
       "    return obj;\n",
       "  }, {});\n",
       "}\n",
       "\n",
       "mpl.figure.prototype.mouse_event = function(event, name) {\n",
       "    var canvas_pos = mpl.findpos(event)\n",
       "\n",
       "    if (name === 'button_press')\n",
       "    {\n",
       "        this.canvas.focus();\n",
       "        this.canvas_div.focus();\n",
       "    }\n",
       "\n",
       "    var x = canvas_pos.x * mpl.ratio;\n",
       "    var y = canvas_pos.y * mpl.ratio;\n",
       "\n",
       "    this.send_message(name, {x: x, y: y, button: event.button,\n",
       "                             step: event.step,\n",
       "                             guiEvent: simpleKeys(event)});\n",
       "\n",
       "    /* This prevents the web browser from automatically changing to\n",
       "     * the text insertion cursor when the button is pressed.  We want\n",
       "     * to control all of the cursor setting manually through the\n",
       "     * 'cursor' event from matplotlib */\n",
       "    event.preventDefault();\n",
       "    return false;\n",
       "}\n",
       "\n",
       "mpl.figure.prototype._key_event_extra = function(event, name) {\n",
       "    // Handle any extra behaviour associated with a key event\n",
       "}\n",
       "\n",
       "mpl.figure.prototype.key_event = function(event, name) {\n",
       "\n",
       "    // Prevent repeat events\n",
       "    if (name == 'key_press')\n",
       "    {\n",
       "        if (event.which === this._key)\n",
       "            return;\n",
       "        else\n",
       "            this._key = event.which;\n",
       "    }\n",
       "    if (name == 'key_release')\n",
       "        this._key = null;\n",
       "\n",
       "    var value = '';\n",
       "    if (event.ctrlKey && event.which != 17)\n",
       "        value += \"ctrl+\";\n",
       "    if (event.altKey && event.which != 18)\n",
       "        value += \"alt+\";\n",
       "    if (event.shiftKey && event.which != 16)\n",
       "        value += \"shift+\";\n",
       "\n",
       "    value += 'k';\n",
       "    value += event.which.toString();\n",
       "\n",
       "    this._key_event_extra(event, name);\n",
       "\n",
       "    this.send_message(name, {key: value,\n",
       "                             guiEvent: simpleKeys(event)});\n",
       "    return false;\n",
       "}\n",
       "\n",
       "mpl.figure.prototype.toolbar_button_onclick = function(name) {\n",
       "    if (name == 'download') {\n",
       "        this.handle_save(this, null);\n",
       "    } else {\n",
       "        this.send_message(\"toolbar_button\", {name: name});\n",
       "    }\n",
       "};\n",
       "\n",
       "mpl.figure.prototype.toolbar_button_onmouseover = function(tooltip) {\n",
       "    this.message.textContent = tooltip;\n",
       "};\n",
       "mpl.toolbar_items = [[\"Home\", \"Reset original view\", \"fa fa-home icon-home\", \"home\"], [\"Back\", \"Back to  previous view\", \"fa fa-arrow-left icon-arrow-left\", \"back\"], [\"Forward\", \"Forward to next view\", \"fa fa-arrow-right icon-arrow-right\", \"forward\"], [\"\", \"\", \"\", \"\"], [\"Pan\", \"Pan axes with left mouse, zoom with right\", \"fa fa-arrows icon-move\", \"pan\"], [\"Zoom\", \"Zoom to rectangle\", \"fa fa-square-o icon-check-empty\", \"zoom\"], [\"\", \"\", \"\", \"\"], [\"Download\", \"Download plot\", \"fa fa-floppy-o icon-save\", \"download\"]];\n",
       "\n",
       "mpl.extensions = [\"eps\", \"jpeg\", \"pdf\", \"png\", \"ps\", \"raw\", \"svg\", \"tif\"];\n",
       "\n",
       "mpl.default_extension = \"png\";var comm_websocket_adapter = function(comm) {\n",
       "    // Create a \"websocket\"-like object which calls the given IPython comm\n",
       "    // object with the appropriate methods. Currently this is a non binary\n",
       "    // socket, so there is still some room for performance tuning.\n",
       "    var ws = {};\n",
       "\n",
       "    ws.close = function() {\n",
       "        comm.close()\n",
       "    };\n",
       "    ws.send = function(m) {\n",
       "        //console.log('sending', m);\n",
       "        comm.send(m);\n",
       "    };\n",
       "    // Register the callback with on_msg.\n",
       "    comm.on_msg(function(msg) {\n",
       "        //console.log('receiving', msg['content']['data'], msg);\n",
       "        // Pass the mpl event to the overriden (by mpl) onmessage function.\n",
       "        ws.onmessage(msg['content']['data'])\n",
       "    });\n",
       "    return ws;\n",
       "}\n",
       "\n",
       "mpl.mpl_figure_comm = function(comm, msg) {\n",
       "    // This is the function which gets called when the mpl process\n",
       "    // starts-up an IPython Comm through the \"matplotlib\" channel.\n",
       "\n",
       "    var id = msg.content.data.id;\n",
       "    // Get hold of the div created by the display call when the Comm\n",
       "    // socket was opened in Python.\n",
       "    var element = $(\"#\" + id);\n",
       "    var ws_proxy = comm_websocket_adapter(comm)\n",
       "\n",
       "    function ondownload(figure, format) {\n",
       "        window.open(figure.imageObj.src);\n",
       "    }\n",
       "\n",
       "    var fig = new mpl.figure(id, ws_proxy,\n",
       "                           ondownload,\n",
       "                           element.get(0));\n",
       "\n",
       "    // Call onopen now - mpl needs it, as it is assuming we've passed it a real\n",
       "    // web socket which is closed, not our websocket->open comm proxy.\n",
       "    ws_proxy.onopen();\n",
       "\n",
       "    fig.parent_element = element.get(0);\n",
       "    fig.cell_info = mpl.find_output_cell(\"<div id='\" + id + \"'></div>\");\n",
       "    if (!fig.cell_info) {\n",
       "        console.error(\"Failed to find cell for figure\", id, fig);\n",
       "        return;\n",
       "    }\n",
       "\n",
       "    var output_index = fig.cell_info[2]\n",
       "    var cell = fig.cell_info[0];\n",
       "\n",
       "};\n",
       "\n",
       "mpl.figure.prototype.handle_close = function(fig, msg) {\n",
       "    var width = fig.canvas.width/mpl.ratio\n",
       "    fig.root.unbind('remove')\n",
       "\n",
       "    // Update the output cell to use the data from the current canvas.\n",
       "    fig.push_to_output();\n",
       "    var dataURL = fig.canvas.toDataURL();\n",
       "    // Re-enable the keyboard manager in IPython - without this line, in FF,\n",
       "    // the notebook keyboard shortcuts fail.\n",
       "    IPython.keyboard_manager.enable()\n",
       "    $(fig.parent_element).html('<img src=\"' + dataURL + '\" width=\"' + width + '\">');\n",
       "    fig.close_ws(fig, msg);\n",
       "}\n",
       "\n",
       "mpl.figure.prototype.close_ws = function(fig, msg){\n",
       "    fig.send_message('closing', msg);\n",
       "    // fig.ws.close()\n",
       "}\n",
       "\n",
       "mpl.figure.prototype.push_to_output = function(remove_interactive) {\n",
       "    // Turn the data on the canvas into data in the output cell.\n",
       "    var width = this.canvas.width/mpl.ratio\n",
       "    var dataURL = this.canvas.toDataURL();\n",
       "    this.cell_info[1]['text/html'] = '<img src=\"' + dataURL + '\" width=\"' + width + '\">';\n",
       "}\n",
       "\n",
       "mpl.figure.prototype.updated_canvas_event = function() {\n",
       "    // Tell IPython that the notebook contents must change.\n",
       "    IPython.notebook.set_dirty(true);\n",
       "    this.send_message(\"ack\", {});\n",
       "    var fig = this;\n",
       "    // Wait a second, then push the new image to the DOM so\n",
       "    // that it is saved nicely (might be nice to debounce this).\n",
       "    setTimeout(function () { fig.push_to_output() }, 1000);\n",
       "}\n",
       "\n",
       "mpl.figure.prototype._init_toolbar = function() {\n",
       "    var fig = this;\n",
       "\n",
       "    var nav_element = $('<div/>')\n",
       "    nav_element.attr('style', 'width: 100%');\n",
       "    this.root.append(nav_element);\n",
       "\n",
       "    // Define a callback function for later on.\n",
       "    function toolbar_event(event) {\n",
       "        return fig.toolbar_button_onclick(event['data']);\n",
       "    }\n",
       "    function toolbar_mouse_event(event) {\n",
       "        return fig.toolbar_button_onmouseover(event['data']);\n",
       "    }\n",
       "\n",
       "    for(var toolbar_ind in mpl.toolbar_items){\n",
       "        var name = mpl.toolbar_items[toolbar_ind][0];\n",
       "        var tooltip = mpl.toolbar_items[toolbar_ind][1];\n",
       "        var image = mpl.toolbar_items[toolbar_ind][2];\n",
       "        var method_name = mpl.toolbar_items[toolbar_ind][3];\n",
       "\n",
       "        if (!name) { continue; };\n",
       "\n",
       "        var button = $('<button class=\"btn btn-default\" href=\"#\" title=\"' + name + '\"><i class=\"fa ' + image + ' fa-lg\"></i></button>');\n",
       "        button.click(method_name, toolbar_event);\n",
       "        button.mouseover(tooltip, toolbar_mouse_event);\n",
       "        nav_element.append(button);\n",
       "    }\n",
       "\n",
       "    // Add the status bar.\n",
       "    var status_bar = $('<span class=\"mpl-message\" style=\"text-align:right; float: right;\"/>');\n",
       "    nav_element.append(status_bar);\n",
       "    this.message = status_bar[0];\n",
       "\n",
       "    // Add the close button to the window.\n",
       "    var buttongrp = $('<div class=\"btn-group inline pull-right\"></div>');\n",
       "    var button = $('<button class=\"btn btn-mini btn-primary\" href=\"#\" title=\"Stop Interaction\"><i class=\"fa fa-power-off icon-remove icon-large\"></i></button>');\n",
       "    button.click(function (evt) { fig.handle_close(fig, {}); } );\n",
       "    button.mouseover('Stop Interaction', toolbar_mouse_event);\n",
       "    buttongrp.append(button);\n",
       "    var titlebar = this.root.find($('.ui-dialog-titlebar'));\n",
       "    titlebar.prepend(buttongrp);\n",
       "}\n",
       "\n",
       "mpl.figure.prototype._root_extra_style = function(el){\n",
       "    var fig = this\n",
       "    el.on(\"remove\", function(){\n",
       "\tfig.close_ws(fig, {});\n",
       "    });\n",
       "}\n",
       "\n",
       "mpl.figure.prototype._canvas_extra_style = function(el){\n",
       "    // this is important to make the div 'focusable\n",
       "    el.attr('tabindex', 0)\n",
       "    // reach out to IPython and tell the keyboard manager to turn it's self\n",
       "    // off when our div gets focus\n",
       "\n",
       "    // location in version 3\n",
       "    if (IPython.notebook.keyboard_manager) {\n",
       "        IPython.notebook.keyboard_manager.register_events(el);\n",
       "    }\n",
       "    else {\n",
       "        // location in version 2\n",
       "        IPython.keyboard_manager.register_events(el);\n",
       "    }\n",
       "\n",
       "}\n",
       "\n",
       "mpl.figure.prototype._key_event_extra = function(event, name) {\n",
       "    var manager = IPython.notebook.keyboard_manager;\n",
       "    if (!manager)\n",
       "        manager = IPython.keyboard_manager;\n",
       "\n",
       "    // Check for shift+enter\n",
       "    if (event.shiftKey && event.which == 13) {\n",
       "        this.canvas_div.blur();\n",
       "        // select the cell after this one\n",
       "        var index = IPython.notebook.find_cell_index(this.cell_info[0]);\n",
       "        IPython.notebook.select(index + 1);\n",
       "    }\n",
       "}\n",
       "\n",
       "mpl.figure.prototype.handle_save = function(fig, msg) {\n",
       "    fig.ondownload(fig, null);\n",
       "}\n",
       "\n",
       "\n",
       "mpl.find_output_cell = function(html_output) {\n",
       "    // Return the cell and output element which can be found *uniquely* in the notebook.\n",
       "    // Note - this is a bit hacky, but it is done because the \"notebook_saving.Notebook\"\n",
       "    // IPython event is triggered only after the cells have been serialised, which for\n",
       "    // our purposes (turning an active figure into a static one), is too late.\n",
       "    var cells = IPython.notebook.get_cells();\n",
       "    var ncells = cells.length;\n",
       "    for (var i=0; i<ncells; i++) {\n",
       "        var cell = cells[i];\n",
       "        if (cell.cell_type === 'code'){\n",
       "            for (var j=0; j<cell.output_area.outputs.length; j++) {\n",
       "                var data = cell.output_area.outputs[j];\n",
       "                if (data.data) {\n",
       "                    // IPython >= 3 moved mimebundle to data attribute of output\n",
       "                    data = data.data;\n",
       "                }\n",
       "                if (data['text/html'] == html_output) {\n",
       "                    return [cell, data, j];\n",
       "                }\n",
       "            }\n",
       "        }\n",
       "    }\n",
       "}\n",
       "\n",
       "// Register the function which deals with the matplotlib target/channel.\n",
       "// The kernel may be null if the page has been refreshed.\n",
       "if (IPython.notebook.kernel != null) {\n",
       "    IPython.notebook.kernel.comm_manager.register_target('matplotlib', mpl.mpl_figure_comm);\n",
       "}\n"
      ],
      "text/plain": [
       "<IPython.core.display.Javascript object>"
      ]
     },
     "metadata": {},
     "output_type": "display_data"
    },
    {
     "data": {
      "text/html": [
       "<img src=\"data:image/png;base64,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\" width=\"640\">"
      ],
      "text/plain": [
       "<IPython.core.display.HTML object>"
      ]
     },
     "metadata": {},
     "output_type": "display_data"
    },
    {
     "data": {
      "text/plain": [
       "[<matplotlib.lines.Line2D at 0x7efc0365f390>]"
      ]
     },
     "execution_count": 13,
     "metadata": {},
     "output_type": "execute_result"
    }
   ],
   "source": [
    "## verify zipf law\n",
    "M = COUNTS[\"the\"]\n",
    "plt.yscale(\"log\")\n",
    "plt.xscale(\"log\")\n",
    "plt.title(\"Freq of n-th most frequent word and 1/n line\")\n",
    "plt.plot([c for w, c in COUNTS.most_common()])\n",
    "plt.plot([M/i for i in range(1, len(COUNTS)+1)])"
   ]
  },
  {
   "cell_type": "markdown",
   "metadata": {},
   "source": [
    "## Spelling Correction\n",
    "**Approach**: try all candidates that are known words and close enough to the original one (defined as within a threshold of edit distance)"
   ]
  },
  {
   "cell_type": "code",
   "execution_count": 51,
   "metadata": {
    "collapsed": true
   },
   "outputs": [],
   "source": [
    "def correct(word):\n",
    "    \"\"\"Find the best spelling correction for the word\"\"\"\n",
    "    candidates = (known(edits0(word)) or\n",
    "                  known(edits1(word)) or\n",
    "                  known(edits2(word)) or\n",
    "                  [word])\n",
    "    return max(candidates, key=COUNTS.get)"
   ]
  },
  {
   "cell_type": "code",
   "execution_count": 52,
   "metadata": {
    "collapsed": true
   },
   "outputs": [],
   "source": [
    "def known(words):\n",
    "    return {w for w in words if w in COUNTS}\n",
    "\n",
    "def edits0(word):\n",
    "    return {word}\n",
    "\n",
    "def edits2(word):\n",
    "    return {w2 for w1 in edits1(word) for w2 in edits1(w1)}"
   ]
  },
  {
   "cell_type": "code",
   "execution_count": 53,
   "metadata": {
    "collapsed": false
   },
   "outputs": [],
   "source": [
    "def edits1(word):\n",
    "    pairs = splits(word)\n",
    "    deletes = [a + b[1:] for (a, b) in pairs if b]\n",
    "    transposes = [a + b[1] + b[0] + b[2:] for (a, b) in pairs if len(b) >= 2]\n",
    "    replaces = [a + c + b[1:] for (a, b) in pairs for c in alphabet if b]\n",
    "    inserts = [a + c + b for (a, b) in pairs for c in alphabet]\n",
    "    return set(deletes + transposes + replaces + inserts)\n",
    "\n",
    "def splits(word):\n",
    "    return [(word[0:i], word[i:len(word)]) for i in range(0, len(word)+1)]\n",
    "\n",
    "alphabet = string.ascii_lowercase"
   ]
  },
  {
   "cell_type": "code",
   "execution_count": 64,
   "metadata": {
    "collapsed": false
   },
   "outputs": [
    {
     "data": {
      "text/plain": [
       "'spelling'"
      ]
     },
     "execution_count": 64,
     "metadata": {},
     "output_type": "execute_result"
    }
   ],
   "source": [
    "correct(\"speling\")"
   ]
  },
  {
   "cell_type": "markdown",
   "metadata": {},
   "source": [
    "## Sequence probability"
   ]
  },
  {
   "cell_type": "code",
   "execution_count": 66,
   "metadata": {
    "collapsed": true
   },
   "outputs": [],
   "source": [
    "# create probability from counts\n",
    "def pdist(counter):\n",
    "    N = sum(counter.values())\n",
    "    return lambda x: counter[x] / N\n",
    "\n",
    "P = pdist(COUNTS)"
   ]
  },
  {
   "cell_type": "code",
   "execution_count": 68,
   "metadata": {
    "collapsed": false
   },
   "outputs": [
    {
     "name": "stdout",
     "output_type": "stream",
     "text": [
      "0.06241594118789615 the\n",
      "0.010770406970053348 is\n",
      "0.0015032454471151102 most\n",
      "0.00045268487469749707 common\n",
      "0.0003338977290896841 word\n",
      "0.021887472466521576 in\n",
      "0.0006979038832047149 english\n"
     ]
    }
   ],
   "source": [
    "for w in tokens('\"The\" is most common word in English'):\n",
    "    print (P(w), w)"
   ]
  },
  {
   "cell_type": "code",
   "execution_count": 72,
   "metadata": {
    "collapsed": true
   },
   "outputs": [],
   "source": [
    "def Pwords(words):\n",
    "    return product(P(w) for w in words)\n",
    "\n",
    "def product(xs):\n",
    "    result = 1\n",
    "    for x in xs:\n",
    "        result *= x\n",
    "    return result"
   ]
  },
  {
   "cell_type": "code",
   "execution_count": 73,
   "metadata": {
    "collapsed": false
   },
   "outputs": [
    {
     "name": "stdout",
     "output_type": "stream",
     "text": [
      "6.92419025160357e-11 this is a test\n",
      "2.8624795610411035e-15 this is a unusual test\n",
      "0.0 this is a neverbeforeseen test\n"
     ]
    }
   ],
   "source": [
    "tests = ['this is a test', \n",
    "         'this is a unusual test',\n",
    "         'this is a neverbeforeseen test']\n",
    "\n",
    "for test in tests:\n",
    "    print (Pwords(tokens(test)), test)"
   ]
  },
  {
   "cell_type": "markdown",
   "metadata": {},
   "source": [
    "## Word segmentation\n",
    "**Approach**:\n",
    "Greedy search: \n",
    "1. split into the first word and rest words, based on the maximum Pwords probability\n",
    "2. do it recursively\n",
    "\n",
    "**Efficiency**:\n",
    "To avoid re-calculate the segmentation of the remaining words, exither use *dynamic programming* explictly or *memorization* implicitly."
   ]
  },
  {
   "cell_type": "code",
   "execution_count": 74,
   "metadata": {
    "collapsed": true
   },
   "outputs": [],
   "source": [
    "def memo(f):\n",
    "    cache = {}\n",
    "    def memof(*args):\n",
    "        if args not in cache:\n",
    "            cache[args] = f(*args)\n",
    "        return cache[args]\n",
    "    memof.cache = cache\n",
    "    return memof"
   ]
  },
  {
   "cell_type": "code",
   "execution_count": 75,
   "metadata": {
    "collapsed": false
   },
   "outputs": [
    {
     "data": {
      "text/plain": [
       "100"
      ]
     },
     "execution_count": 75,
     "metadata": {},
     "output_type": "execute_result"
    }
   ],
   "source": [
    "max(len(w) for w in COUNTS)"
   ]
  },
  {
   "cell_type": "code",
   "execution_count": 76,
   "metadata": {
    "collapsed": false
   },
   "outputs": [
    {
     "data": {
      "text/plain": [
       "'bababadalgharaghtakamminarronnkonnbronntonnerronntuonnthunntrovarrhounawnskawntoohoohoordenenthurnuk'"
      ]
     },
     "execution_count": 76,
     "metadata": {},
     "output_type": "execute_result"
    }
   ],
   "source": [
    "max(COUNTS, key=len)"
   ]
  },
  {
   "cell_type": "code",
   "execution_count": 81,
   "metadata": {
    "collapsed": true
   },
   "outputs": [],
   "source": [
    "def splits(text, start=0, L=20):\n",
    "    \"\"\"return a list of all (first, rest) pairs.\n",
    "    start <= len(first) <= L\"\"\"\n",
    "    return [(text[:i], text[i:])\n",
    "           for i in range(start, min(len(text), L)+1)]"
   ]
  },
  {
   "cell_type": "code",
   "execution_count": 82,
   "metadata": {
    "collapsed": false
   },
   "outputs": [
    {
     "data": {
      "text/plain": [
       "[('r', 'eallylongtext'),\n",
       " ('re', 'allylongtext'),\n",
       " ('rea', 'llylongtext'),\n",
       " ('real', 'lylongtext')]"
      ]
     },
     "execution_count": 82,
     "metadata": {},
     "output_type": "execute_result"
    }
   ],
   "source": [
    "splits(\"reallylongtext\", 1, 4)"
   ]
  },
  {
   "cell_type": "code",
   "execution_count": 101,
   "metadata": {
    "collapsed": true
   },
   "outputs": [],
   "source": [
    "@memo\n",
    "def segment(text):\n",
    "    if not text:\n",
    "        return []\n",
    "    else:\n",
    "        candidates = ([first] + segment(rest)\n",
    "                     for (first, rest) in splits(text, 1))\n",
    "        return max(candidates, key=Pwords)"
   ]
  },
  {
   "cell_type": "code",
   "execution_count": 104,
   "metadata": {
    "collapsed": false
   },
   "outputs": [
    {
     "data": {
      "text/plain": [
       "['choose', 'pain']"
      ]
     },
     "execution_count": 104,
     "metadata": {},
     "output_type": "execute_result"
    }
   ],
   "source": [
    "segment(\"choosepain\")"
   ]
  },
  {
   "cell_type": "code",
   "execution_count": 105,
   "metadata": {
    "collapsed": false
   },
   "outputs": [
    {
     "data": {
      "text/plain": [
       "['speed', 'of', 'art']"
      ]
     },
     "execution_count": 105,
     "metadata": {},
     "output_type": "execute_result"
    }
   ],
   "source": [
    "segment(\"speedofart\")"
   ]
  },
  {
   "cell_type": "code",
   "execution_count": 107,
   "metadata": {
    "collapsed": false
   },
   "outputs": [
    {
     "data": {
      "text/plain": [
       "'when in the course of human events it becomes necessary for one people to dissolve the political bands which have connected them with another and to assume among the powers of the earth the separate and equal station to which the laws of nature and of natures god entitle them'"
      ]
     },
     "execution_count": 107,
     "metadata": {},
     "output_type": "execute_result"
    }
   ],
   "source": [
    "decl = ('wheninthecourseofhumaneventsitbecomesnecessaryforonepeople' +\n",
    "        'todissolvethepoliticalbandswhichhaveconnectedthemwithanother' +\n",
    "        'andtoassumeamongthepowersoftheearththeseparateandequalstation' +\n",
    "        'towhichthelawsofnatureandofnaturesgodentitlethem')\n",
    "\" \".join(segment(decl))"
   ]
  },
  {
   "cell_type": "code",
   "execution_count": null,
   "metadata": {
    "collapsed": true
   },
   "outputs": [],
   "source": []
  }
 ],
 "metadata": {
  "kernelspec": {
   "display_name": "Python 3",
   "language": "python",
   "name": "python3"
  },
  "language_info": {
   "codemirror_mode": {
    "name": "ipython",
    "version": 3
   },
   "file_extension": ".py",
   "mimetype": "text/x-python",
   "name": "python",
   "nbconvert_exporter": "python",
   "pygments_lexer": "ipython3",
   "version": "3.6.0"
  }
 },
 "nbformat": 4,
 "nbformat_minor": 2
}
