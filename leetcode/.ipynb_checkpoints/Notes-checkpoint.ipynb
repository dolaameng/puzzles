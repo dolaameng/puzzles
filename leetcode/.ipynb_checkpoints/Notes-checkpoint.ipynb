{
 "cells": [
  {
   "cell_type": "markdown",
   "metadata": {},
   "source": [
    "# Notes Taken from Leetcode Exercise\n",
    "\n",
    "As a general rule, you need to ***think hard about how a solution would look like, and try to find patterns to do so. Start with special cases if the solution is blur. Try to align unknown with familiar techs such as \"recursion\", \"divide-and-conquer\", \"sorting\" and \"hashing\"***.\n",
    "\n",
    "### Spoilers ahead"
   ]
  },
  {
   "cell_type": "markdown",
   "metadata": {},
   "source": [
    "## Arrays\n",
    "Most array related questions involve smart ways of comparing elements - and most of time the elements are integers. As such, most problems can be solved in O(nlgn) time by sorting them first. If O(n) time needed (and O(n) space allowed), a hash (e.g, unordered_map) can be used. Some problems explicitly asks for O(n) time and O(1) space, those usually involve \"special characteristics\" of elements.\n",
    "\n",
    "To solve those problems, you need to understand,\n",
    "- comparision of every pair of elements takes O(n^2) time, smarter way of doing it is to sort them. e.g., in [Two Sum](https://leetcode.com/problems/two-sum/) problem, if we know a+b (a<=b) is bigger than target and c is even larger than b, there is no need to consider a+c anymore. \n",
    "- a more general approach for cheaper comparison is using ***hash***, even though it takes O(1) time to query but it takes O(n) space. This is usually the lower bound of complexity for general solutions, e.g., [Contains Duplicate](https://leetcode.com/problems/contains-duplicate/), [Two Sum](https://leetcode.com/problems/two-sum/), [Three Sum](https://leetcode.com/submissions/detail/42847166/), [Valid Anagram](https://leetcode.com/problems/valid-anagram/)\n",
    "- if a problem asks for O(n) time and O(1) space, it must has special properties - e.g., it generally asks for fixed number of screening of the elements, without storing anything. It usually needs a special accumulative operation. Examples are\n",
    "    - [Move Zeros](https://leetcode.com/problems/move-zeroes/), the special thing is that when you encounter an element scanning from left to right, you IMMEDIATELY know which position it goes - it is its current position minus number of zeros before it\n",
    "    - [Single Number](https://leetcode.com/problems/single-number/): you can use hash, but [\"xor\"](https://leetcode.com/problems/contains-duplicate/) (careful with zeros) is a cheaper way of \"***accumulating***\" the comparison because\n",
    "        - x xor x = 0\n",
    "        - x xor 0 = x\n",
    "        - x xor y xor x = y\n",
    "    - [Product of Array Except Self](https://leetcode.com/problems/product-of-array-except-self/): ***accumulative*** product from both directions\n",
    "    - [Majority Element](https://leetcode.com/problems/majority-element/): The [Moore voting algorithm](http://www.cs.utexas.edu/~moore/best-ideas/mjrty/example.html) uses a pair of element and its psedudo-counter to accumulate the result during the linear scanning.\n",
    "    - [Summary Ranges](https://leetcode.com/problems/summary-ranges/): you only need to look at two successive elements to find the boundaries of ranges.\n",
    "- sometime you need a tweak to applying familiar tricks. \n",
    "    - [Single Number III](https://leetcode.com/problems/single-number-iii/): You need to break it into two [Single Number](https://leetcode.com/problems/single-number/) problems. \n",
    "- another common types of problems involves operations instead of comparisons, e.g., reversing, palindrome, anagram, or [Rotate Array](https://leetcode.com/problems/rotate-array/) - rotation as a series of reversion. Most of those puzzles will have a easier-to-approach viewpoint when you try to solve it with *divide-and-conquer* or *recursion* \n",
    "\n",
    "The strategy is: \n",
    "- sorting almost always helps, but may be unsatisfying for certain complexity requirements\n",
    "- think about hashing, usually it is the right thing to do if space complexity of $O(n)$ is allowed\n",
    "- for very special case, think about how to pick smart accmulative way of judging things without looking at the array globally\n",
    "- try to think it recursively when you have aboslutely no clue"
   ]
  },
  {
   "cell_type": "markdown",
   "metadata": {},
   "source": [
    "## Linked Lists\n",
    "\n",
    "Most puzzles about linked list involves accessing/manipulating elements in a constrained way (e.g. singly linked). So being familiar with basic common operations can really go a long way. These include\n",
    "- [Reverse Linked List](https://leetcode.com/problems/reverse-linked-list/): recursion will be elegant if stack depth would be an issue\n",
    "- Node removal: [Remove Duplicates from Sorted List](https://leetcode.com/problems/remove-duplicates-from-sorted-list/)\n",
    "- find the middle element (or p-percentile element): [Palindrome Linked List](https://leetcode.com/problems/palindrome-linked-list/)\n",
    "\n",
    "Common operations on lists are both important for puzzle solving and daily works of a programmer"
   ]
  },
  {
   "cell_type": "markdown",
   "metadata": {},
   "source": [
    "## Trees\n",
    "\n",
    "Most tree algorithsm (with graphs), specially binary trees are related to traverse or search. Recursive algorithm might be easy to see, e.g. [Same Tree](https://leetcode.com/problems/same-tree/), [Maximum Depth of Binary Tree](https://leetcode.com/problems/maximum-depth-of-binary-tree/), [Invert Binary Tree](https://leetcode.com/problems/invert-binary-tree/). For recursive algorithms, proper check of boundary conditions (e.g., empty tree, leaves) are important.\n",
    "\n",
    "Breath-first and depth-first are two traditional ways of traversing a tree. They have different pros and cons (in terms of time and space complexity). Both have recursive solutions and may also be implemented in an iterative way, via data structures of stack and queue. The more general version is searching, either via backtracking or not. Examples are [Binary Tree Paths - depth first](https://leetcode.com/problems/binary-tree-paths/)\n",
    "\n",
    "Some algorithms depend on special properties of trees, e.g., [Lowest Common Ancestor of a Binary Search Tree](https://leetcode.com/problems/lowest-common-ancestor-of-a-binary-search-tree/).\n",
    "\n",
    "Recursion is the most common approach for trees, be careful of special base condtions. The safest way in  an interview might be listing as many explict base conditions as possible. They may not be all necessary though."
   ]
  },
  {
   "cell_type": "markdown",
   "metadata": {},
   "source": [
    "## Binary Search"
   ]
  },
  {
   "cell_type": "code",
   "execution_count": null,
   "metadata": {
    "collapsed": true
   },
   "outputs": [],
   "source": []
  }
 ],
 "metadata": {
  "kernelspec": {
   "display_name": "Python 2",
   "language": "python",
   "name": "python2"
  },
  "language_info": {
   "codemirror_mode": {
    "name": "ipython",
    "version": 2
   },
   "file_extension": ".py",
   "mimetype": "text/x-python",
   "name": "python",
   "nbconvert_exporter": "python",
   "pygments_lexer": "ipython2",
   "version": "2.7.6"
  }
 },
 "nbformat": 4,
 "nbformat_minor": 0
}
