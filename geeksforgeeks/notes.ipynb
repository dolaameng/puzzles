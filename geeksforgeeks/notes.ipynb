{
 "cells": [
  {
   "cell_type": "markdown",
   "metadata": {},
   "source": [
    "## Linked Lists\n",
    "- [quiz](http://geeksquiz.com/data-structure/linked-list/)\n",
    "- common tricks\n",
    "    - think about what the solution looks like at the end, and mark those that need to be modified\n",
    "    - usually recursion is the most straightforward solution\n",
    "    - if use iteration, be careful with boundary conditions. It is usually good to check both `current == NULL` and `current->next == NULL`.\n",
    "    - it is safe to always maintain `prev`, `current`, `next` pointers for each step. You may simplify them if you don't need them all.\n",
    "- special tricks\n",
    "    - delete a node by using only one pointer to it (question 15)\n",
    "    - two pointers to find middle, nth elemnt (slow and fast moving)\n",
    "    - xor list functioning as a doubly linked list"
   ]
  },
  {
   "cell_type": "markdown",
   "metadata": {},
   "source": [
    "## Stacks\n",
    "- [quiz](http://geeksquiz.com/data-structure/stack/)\n",
    "- common tricks\n",
    "    - it is well used to *reverse* things\n",
    "    - stack is very useful when you need to store a group of candidates in their orders (e.g., minimum, maximum), think it as a genearlization of single variable min/max. Examples include (1) using two stacks to implement a stack with min() function and (2) stock span problem\n",
    "    - two stacks can simulate a queue\n",
    "    - common implementation of stack could be a `singly list with head and tail` or `array`\n",
    "- examples\n",
    "    - use stack to find the binary representation of n: `push(n%2); n /= 2; pop();`\n",
    "    - [stock span problem](http://www.geeksforgeeks.org/the-stock-span-problem/)\n",
    "    - [expression evaluation](http://www.geeksforgeeks.org/expression-evaluation/)"
   ]
  },
  {
   "cell_type": "markdown",
   "metadata": {},
   "source": [
    "## Queues\n",
    "- queues and other data stuctures:\n",
    "    - two stacks can be used to simulate a queue (inbox and outbox)\n",
    "    - two queues can be used to simulate a stack - you need one to store the last element\n",
    "    - priority queues are usually implemented by a heap\n",
    "- implementation:\n",
    "    - linked list\n",
    "    - circle queue with array"
   ]
  },
  {
   "cell_type": "markdown",
   "metadata": {},
   "source": [
    "## Trees, Binary Search Trees"
   ]
  },
  {
   "cell_type": "markdown",
   "metadata": {
    "collapsed": true
   },
   "source": [
    "## Arrays and Strings\n",
    "- if extra space is allowed, most array/string problems can be solved straightforward\n",
    "- when in-place algorithm is needed, it usually involves a solution that manipulating different segments (partitions) of the same array by using different pointers to delimite them, and moving elements forward and backward accordingly."
   ]
  },
  {
   "cell_type": "code",
   "execution_count": null,
   "metadata": {
    "collapsed": true
   },
   "outputs": [],
   "source": []
  }
 ],
 "metadata": {
  "kernelspec": {
   "display_name": "Python 2",
   "language": "python",
   "name": "python2"
  },
  "language_info": {
   "codemirror_mode": {
    "name": "ipython",
    "version": 2
   },
   "file_extension": ".py",
   "mimetype": "text/x-python",
   "name": "python",
   "nbconvert_exporter": "python",
   "pygments_lexer": "ipython2",
   "version": "2.7.6"
  }
 },
 "nbformat": 4,
 "nbformat_minor": 0
}
