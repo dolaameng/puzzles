{
 "metadata": {
  "name": "",
  "signature": "sha256:049ba29f615a13c9b1b1f611386741f98c75bf70562813d2807aea7f45498c79"
 },
 "nbformat": 3,
 "nbformat_minor": 0,
 "worksheets": []
}