{
 "metadata": {
  "name": "",
  "signature": "sha256:ff0b323803b4ae2079e957bbea9da3ea0214f0b653fd6af6efb9576600380c07"
 },
 "nbformat": 3,
 "nbformat_minor": 0,
 "worksheets": [
  {
   "cells": [
    {
     "cell_type": "code",
     "collapsed": false,
     "input": [
      "from sklearn.feature_extraction import text\n",
      "from sklearn.naive_bayes import MultinomialNB\n",
      "from sklearn.grid_search import GridSearchCV\n",
      "from sklearn.pipeline import Pipeline\n",
      "import numpy as np"
     ],
     "language": "python",
     "metadata": {},
     "outputs": [],
     "prompt_number": 1
    },
    {
     "cell_type": "code",
     "collapsed": false,
     "input": [
      "train_file = \"data/trainingdata.txt\"\n",
      "lines = open(train_file).readlines()[1:]\n",
      "labels, texts = zip(*[line.split(None, 1) for line in lines])\n",
      "labels = np.asarray(labels)\n",
      "texts = np.asarray(texts)"
     ],
     "language": "python",
     "metadata": {},
     "outputs": [],
     "prompt_number": 2
    },
    {
     "cell_type": "code",
     "collapsed": false,
     "input": [
      "tfidf = text.TfidfVectorizer(stop_words=\"english\")\n",
      "nb_classifier = MultinomialNB()\n",
      "clf = Pipeline([(\"tfidf\", tfidf), (\"nb\", nb_classifier)])\n",
      "searcher = GridSearchCV(clf, verbose=1,\n",
      "                        param_grid={\"tfidf__min_df\": [ 5, 10, 15, 20],\n",
      "                                    \"tfidf__max_df\": [0.1, 0.3, 0.5,],\n",
      "                                    \"tfidf__ngram_range\": [(1, 1), (1, 2)],\n",
      "                                    \"nb__alpha\": [0.0, 0.5, 1.0,],\n",
      "                                    \"nb__fit_prior\": [True, False]}, \n",
      "                        n_jobs = -1, cv = 5)\n",
      "searcher.fit(texts, labels)"
     ],
     "language": "python",
     "metadata": {},
     "outputs": [
      {
       "output_type": "stream",
       "stream": "stdout",
       "text": [
        "Fitting 5 folds for each of 144 candidates, totalling 720 fits\n"
       ]
      },
      {
       "output_type": "stream",
       "stream": "stderr",
       "text": [
        "[Parallel(n_jobs=-1)]: Done   1 jobs       | elapsed:    0.8s\n",
        "[Parallel(n_jobs=-1)]: Done  50 jobs       | elapsed:   14.0s\n",
        "[Parallel(n_jobs=-1)]: Done 200 jobs       | elapsed:   52.1s\n",
        "[Parallel(n_jobs=-1)]: Done 450 jobs       | elapsed:  1.9min\n",
        "[Parallel(n_jobs=-1)]: Done 706 out of 720 | elapsed:  3.0min remaining:    3.6s\n",
        "[Parallel(n_jobs=-1)]: Done 720 out of 720 | elapsed:  3.1min finished\n"
       ]
      },
      {
       "metadata": {},
       "output_type": "pyout",
       "prompt_number": 38,
       "text": [
        "GridSearchCV(cv=5,\n",
        "       estimator=Pipeline(steps=[('tfidf', TfidfVectorizer(analyzer=u'word', binary=False, charset=None,\n",
        "        charset_error=None, decode_error=u'strict',\n",
        "        dtype=<type 'numpy.int64'>, encoding=u'utf-8', input=u'content',\n",
        "        lowercase=True, max_df=1.0, max_features=None, min_df=1,\n",
        "        ngram_range=(1, 1), nor...True,\n",
        "        vocabulary=None)), ('nb', MultinomialNB(alpha=1.0, class_prior=None, fit_prior=True))]),\n",
        "       fit_params={}, iid=True, loss_func=None, n_jobs=-1,\n",
        "       param_grid={'tfidf__max_df': [0.1, 0.3, 0.5], 'nb__alpha': [0.0, 0.5, 1.0], 'nb__fit_prior': [True, False], 'tfidf__ngram_range': [(1, 1), (1, 2)], 'tfidf__min_df': [5, 10, 15, 20]},\n",
        "       pre_dispatch='2*n_jobs', refit=True, score_func=None, scoring=None,\n",
        "       verbose=1)"
       ]
      }
     ],
     "prompt_number": 38
    },
    {
     "cell_type": "code",
     "collapsed": false,
     "input": [
      "print searcher.best_params_\n",
      "print searcher.best_score_"
     ],
     "language": "python",
     "metadata": {},
     "outputs": [
      {
       "output_type": "stream",
       "stream": "stdout",
       "text": [
        "{'tfidf__max_df': 0.3, 'nb__alpha': 1.0, 'nb__fit_prior': False, 'tfidf__ngram_range': (1, 1), 'tfidf__min_df': 5}\n",
        "0.944029170465\n"
       ]
      }
     ],
     "prompt_number": 39
    },
    {
     "cell_type": "code",
     "collapsed": false,
     "input": [],
     "language": "python",
     "metadata": {},
     "outputs": []
    },
    {
     "cell_type": "code",
     "collapsed": false,
     "input": [],
     "language": "python",
     "metadata": {},
     "outputs": []
    },
    {
     "cell_type": "code",
     "collapsed": false,
     "input": [],
     "language": "python",
     "metadata": {},
     "outputs": []
    },
    {
     "cell_type": "code",
     "collapsed": false,
     "input": [
      "tfidf = text.TfidfVectorizer(stop_words=\"english\", ngram_range=(1, 1),  \n",
      "                             min_df = 15, max_df = 0.3)\n",
      "train_X = tfidf.fit_transform(texts)"
     ],
     "language": "python",
     "metadata": {},
     "outputs": [],
     "prompt_number": 41
    },
    {
     "cell_type": "code",
     "collapsed": false,
     "input": [
      "nb_classifier = MultinomialNB(alpha=0.5, fit_prior=False)\n",
      "nb_classifier.fit(train_X, labels)\n",
      "nb_classifier.score(train_X, labels)"
     ],
     "language": "python",
     "metadata": {},
     "outputs": [
      {
       "metadata": {},
       "output_type": "pyout",
       "prompt_number": 42,
       "text": [
        "0.94858705560619871"
       ]
      }
     ],
     "prompt_number": 42
    },
    {
     "cell_type": "code",
     "collapsed": false,
     "input": [
      "test_text = \"\"\"helig meyers co hmy year feb shr dlrs vs dlrs net mln dlrs vs mln revs mln vs mln note results reflect year month period because company changed fiscal year to end february from march reuter \n",
      "kelly oil and gas partners kly year dec shr cts vs cts net mln vs mln revs mln vs mln reuter \n",
      "japan seeks to strengthen paris currency accord japan will seek to strengthen the paris accord on currency stability at the meeting of the group of seven leading industrial nations tomorrow japanese officials said however the officials travelling with japanese finance minister kiichi miyazawa and who asked not to be identified would not provide any details of how they wanted the accord which was signed by the six leading industrial democracies in february to be strengthened currency target zones or reference ranges will not be discussed at the g meeting which is scheduled for tomorrow the japanese officials said the meeting which is being held in conjunction with this week s international monetary fund world bank sessions will reaffirm the currency pact and there is no need for changing the language used in the paris accord the officials said miyazawa met with u s treasury secretary james baker early in this afternoon and discussed the dollar yen exchange rates officials said but they declined to disclosed the details of that discussion the japanese officials also declined to detail what miyazawa and baker discussed on the subject of greater joint intervention in currency markets to stabilize the dollar or on independent american intervention the officials said such a money market action to stabilize the dollar is not only for the benefit of japan which is suffering from a sharp appreciation in its currency but also for the benefit of the united states as well as to u s urgings for japan to take steps to boost its domestic demand to reduce its trade surplus japan will explain economic measures to the g the officials said however miyazawa failed to outline the size of the japanese economic package in his meeting with baker today because the japanese budget has not been authorized by the diet or parliament despite the new fiscal year which started april one the officials said japan s ruling liberal democratic party revealed its own economic package today calling for more than billion yen in additional spending reuter \n",
      "tcw convertible securities cvt sets dividend tcw convertible securities fund inc said its board declared an initial quarterly dividend of three cents per share payable april to shareholders of record april tcw said it anticipates paying a regular quarterly dividend the company made its initial public stock offering march five reuter \n",
      "south korean won fixed at month high the bank of korea said it fixed the midrate of the won at to the dollar its highest level since february when it was the won was set at yesterday the won has risen pct against the dollar so far this year after rising pct in reuter \n",
      "australian unions launch new south wales strikes australian trade unions said they have launched week long strikes and other industrial action in new south wales nsw to protest against new laws that would reduce injury compensation payments union sources said talks with the state government broke down last night but the two sides are scheduled to meet later today in an attempt to find a compromise rail freight and shipping cargo movements in the country s most populous state were the first to be affected and union officials said almost every business sector will be hit unless there is a quick settlement the state government recently introduced a new workers compensation act which would cut the cash benefits to injured workers by up to a third the act is now awaiting parliamentary ratification nsw state premier barrie unsworth has said workers compensation has risen steeply in recent years and the proposed cuts would save hundreds of mlns of dollars a year union officials said industrial action could spread to other states as the federal government also plans to make sharp cuts in workers compensation reuter \"\"\".split(\"\\n\")\n",
      "test_X = tfidf.transform(test_text)"
     ],
     "language": "python",
     "metadata": {},
     "outputs": [],
     "prompt_number": 43
    },
    {
     "cell_type": "code",
     "collapsed": false,
     "input": [
      "nb_classifier.predict(test_X)"
     ],
     "language": "python",
     "metadata": {},
     "outputs": [
      {
       "metadata": {},
       "output_type": "pyout",
       "prompt_number": 44,
       "text": [
        "array(['1', '1', '8', '1', '8', '4'], \n",
        "      dtype='|S1')"
       ]
      }
     ],
     "prompt_number": 44
    },
    {
     "cell_type": "code",
     "collapsed": false,
     "input": [
      "import pandas as pd\n",
      "pd.value_counts(labels)"
     ],
     "language": "python",
     "metadata": {},
     "outputs": [
      {
       "metadata": {},
       "output_type": "pyout",
       "prompt_number": 45,
       "text": [
        "1    2840\n",
        "2    1596\n",
        "6     253\n",
        "3     251\n",
        "8     206\n",
        "7     190\n",
        "4     108\n",
        "5      41\n",
        "dtype: int64"
       ]
      }
     ],
     "prompt_number": 45
    },
    {
     "cell_type": "code",
     "collapsed": false,
     "input": [],
     "language": "python",
     "metadata": {},
     "outputs": []
    }
   ],
   "metadata": {}
  }
 ]
}