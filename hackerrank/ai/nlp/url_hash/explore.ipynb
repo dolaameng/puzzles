{
 "metadata": {
  "name": "",
  "signature": "sha256:1dc12544dc185a228b5d73d144eebce4724b8b40425d55c10169c335e0315d33"
 },
 "nbformat": 3,
 "nbformat_minor": 0,
 "worksheets": [
  {
   "cells": [
    {
     "cell_type": "code",
     "collapsed": false,
     "input": [
      "!wc -l data/words.txt"
     ],
     "language": "python",
     "metadata": {},
     "outputs": [
      {
       "output_type": "stream",
       "stream": "stdout",
       "text": [
        "5014 data/words.txt\r\n"
       ]
      }
     ],
     "prompt_number": 1
    },
    {
     "cell_type": "code",
     "collapsed": false,
     "input": [
      "!head -n 10 data/words.txt"
     ],
     "language": "python",
     "metadata": {},
     "outputs": [
      {
       "output_type": "stream",
       "stream": "stdout",
       "text": [
        "the\r\n",
        "be\r\n",
        "and\r\n",
        "of\r\n",
        "a\r\n",
        "in\r\n",
        "to\r\n",
        "have\r\n",
        "to\r\n",
        "it\r\n"
       ]
      }
     ],
     "prompt_number": 3
    },
    {
     "cell_type": "code",
     "collapsed": false,
     "input": [
      "lines = \"\"\"#isittime  \n",
      "www.whatismyname.com  \n",
      "#letusgo\"\"\".split()"
     ],
     "language": "python",
     "metadata": {},
     "outputs": [],
     "prompt_number": 5
    },
    {
     "cell_type": "code",
     "collapsed": false,
     "input": [
      "import re\n",
      "#pat = re.compile(r'^(#([a-z0-9.]+))|([a-z0-9]+\\.([a-z0-9]+)\\.[a-z0-9]+)$')\n",
      "pat = re.compile(r'^(#([a-z0-9.]+))|((www\\.)?([a-z0-9]+)\\.[a-z0-9]+)$')\n",
      "texts = []\n",
      "for line in lines:\n",
      "    #print pat.findall(line)[0]\n",
      "    _, htext, _, _, dtext = pat.findall(line)[0]\n",
      "    text = htext or dtext\n",
      "    texts.append(text.lower())"
     ],
     "language": "python",
     "metadata": {},
     "outputs": [],
     "prompt_number": 102
    },
    {
     "cell_type": "code",
     "collapsed": false,
     "input": [
      "from collections import defaultdict\n",
      "word_hash = defaultdict(list)\n",
      "for w in open(\"data/words.txt\"):\n",
      "    w = w.strip().lower()\n",
      "    h = reduce(lambda h, c: h*127+ord(c), w, 0) % 5000\n",
      "    word_hash[h].append(w)"
     ],
     "language": "python",
     "metadata": {},
     "outputs": [],
     "prompt_number": 35
    },
    {
     "cell_type": "code",
     "collapsed": false,
     "input": [
      "word_hash = set([w.strip().lower() for w in open(\"data/words.txt\").readlines()])"
     ],
     "language": "python",
     "metadata": {},
     "outputs": [],
     "prompt_number": 47
    },
    {
     "cell_type": "code",
     "collapsed": false,
     "input": [
      "def parse_words(tag, word_hash):\n",
      "    def _parse(tag):\n",
      "        if tag == \"\": return []\n",
      "        elif tag in word_hash: return [tag]\n",
      "        elif tag[0].isdigit(): \n",
      "            num, text = re.compile(r\"([\\d.]+)([^\\d.]*)\").findall(tag)[0]\n",
      "            rr = _parse(text)\n",
      "            return [num] + rr if rr else None\n",
      "        else:\n",
      "            for end in range(1, len(tag)+1)[::-1]:\n",
      "                if tag[:end] in word_hash: \n",
      "                    rr = _parse(tag[end:])\n",
      "                    if rr: return [tag[:end]] + rr\n",
      "            return None\n",
      "    r = _parse(tag)\n",
      "    if r: return \" \".join(r)\n",
      "    else: return tag"
     ],
     "language": "python",
     "metadata": {},
     "outputs": [],
     "prompt_number": 111
    },
    {
     "cell_type": "code",
     "collapsed": false,
     "input": [
      "print parse_words(\"30.255letusgo\", word_hash)\n",
      "print parse_words(\"honestyhour\", word_hash)\n",
      "print parse_words(\"30secondstoearth\", word_hash)\n",
      "print parse_words(\"shareasale\", word_hash)"
     ],
     "language": "python",
     "metadata": {},
     "outputs": [
      {
       "output_type": "stream",
       "stream": "stdout",
       "text": [
        "30.255 let us go\n",
        "honestyhour\n",
        "30secondstoearth\n",
        "share a sale\n"
       ]
      }
     ],
     "prompt_number": 112
    },
    {
     "cell_type": "code",
     "collapsed": false,
     "input": [
      "\"sale\" in word_hash"
     ],
     "language": "python",
     "metadata": {},
     "outputs": [
      {
       "metadata": {},
       "output_type": "pyout",
       "prompt_number": 106,
       "text": [
        "True"
       ]
      }
     ],
     "prompt_number": 106
    },
    {
     "cell_type": "code",
     "collapsed": false,
     "input": [],
     "language": "python",
     "metadata": {},
     "outputs": []
    },
    {
     "cell_type": "code",
     "collapsed": false,
     "input": [],
     "language": "python",
     "metadata": {},
     "outputs": []
    },
    {
     "cell_type": "code",
     "collapsed": false,
     "input": [],
     "language": "python",
     "metadata": {},
     "outputs": []
    },
    {
     "cell_type": "code",
     "collapsed": false,
     "input": [
      "## whole piece\n",
      "\n",
      "# Enter your code here. Read input from STDIN. Print output to STDOUT\n",
      "# Enter your code here. Read input from STDIN. Print output to STDOUT\n",
      "word_hash = set([w.strip().lower() for w in open(\"words.txt\").readlines()])\n",
      "\n",
      "\n",
      "import re, sys\n",
      "\n",
      "#pat = re.compile(r'^(#([a-z0-9.]+))|((www\\.)?([a-z0-9]+)\\.[a-z0-9]+)$')\n",
      "\n",
      "texts = []\n",
      "for line in sys.stdin.readlines()[1:]:\n",
      "    line = line.strip().lower()\n",
      "    text = line[1:] if line.startswith(\"#\") else line.split(\".\")[1] if line.startswith(\"www.\") else line.split(\".\")[0]\n",
      "    texts.append(text.lower())\n",
      "    \n",
      "def parse_words(tag, word_hash):\n",
      "    def _parse(tag):\n",
      "        if tag == \"\": return []\n",
      "        elif tag in word_hash: return [tag]\n",
      "        elif tag[0].isdigit(): \n",
      "            num, text = re.compile(r\"([\\d.]+)([^\\d.]*)\").findall(tag)[0]\n",
      "            rr = _parse(text)\n",
      "            return [num] + rr if rr else None\n",
      "        else:\n",
      "            for end in range(1, len(tag)+1)[::-1]:\n",
      "                if tag[:end] in word_hash: \n",
      "                    rr = _parse(tag[end:])\n",
      "                    if rr: return [tag[:end]] + rr\n",
      "            return None\n",
      "    r = _parse(tag)\n",
      "    if r: return \" \".join(r)\n",
      "    else: return tag\n",
      "    \n",
      "for text in texts:\n",
      "    print parse_words(text, word_hash)"
     ],
     "language": "python",
     "metadata": {},
     "outputs": []
    }
   ],
   "metadata": {}
  }
 ]
}