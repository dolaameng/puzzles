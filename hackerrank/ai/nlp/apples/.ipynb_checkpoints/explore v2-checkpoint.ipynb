{
 "metadata": {
  "name": "",
  "signature": "sha256:a51a510ce02202b30863d130e00fb5c53864d999eccb8452401d1201e74b7dc6"
 },
 "nbformat": 3,
 "nbformat_minor": 0,
 "worksheets": []
}