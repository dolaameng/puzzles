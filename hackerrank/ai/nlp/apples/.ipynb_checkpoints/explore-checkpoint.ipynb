{
 "metadata": {
  "name": "",
  "signature": "sha256:01662981b957581c577025313231f3cf4e4a8631405ecb7e86296caa76d5d06f"
 },
 "nbformat": 3,
 "nbformat_minor": 0,
 "worksheets": [
  {
   "cells": [
    {
     "cell_type": "code",
     "collapsed": false,
     "input": [
      "import matplotlib.pyplot as plt\n",
      "import numpy as np\n",
      "%matplotlib inline"
     ],
     "language": "python",
     "metadata": {},
     "outputs": [],
     "prompt_number": 43
    },
    {
     "cell_type": "code",
     "collapsed": false,
     "input": [
      "!ls data"
     ],
     "language": "python",
     "metadata": {},
     "outputs": [
      {
       "output_type": "stream",
       "stream": "stdout",
       "text": [
        "apple-computers.txt  apple-fruit.txt  text.in\r\n"
       ]
      }
     ],
     "prompt_number": 1
    },
    {
     "cell_type": "code",
     "collapsed": false,
     "input": [
      "computer_text = open(\"data/apple-computers.txt\").read()\n",
      "fruit_text = open(\"data/apple-fruit.txt\").read()"
     ],
     "language": "python",
     "metadata": {},
     "outputs": [],
     "prompt_number": 2
    },
    {
     "cell_type": "code",
     "collapsed": false,
     "input": [
      "import re\n",
      "from collections import Counter\n",
      "from sklearn.feature_extraction import text\n",
      "\n",
      "def parse_words(doc, stop_words = set()):\n",
      "    pat = re.compile(u'(?u)\\\\b\\\\w\\\\w+\\\\b')\n",
      "    #return filter(lambda w: w not in stop_words, map(lambda w: w.lower(),pat.findall(doc)))\n",
      "    return filter(lambda w: w not in stop_words, map(lambda w: w.lower(),pat.findall(doc)))\n",
      "\n",
      "def word_tf(doc):\n",
      "    words = parse_words(doc)\n",
      "    word_counts = dict(Counter(words))\n",
      "    word_counts = dict([(k,v*1./sum(word_counts.values())) for k,v in word_counts.items()])\n",
      "    return word_counts\n",
      "\n",
      "def significant_words(doc1, doc2):\n",
      "    words1, words2 = word_tf(doc1), word_tf(doc2)\n",
      "    common = set(words1.keys()).intersection(set(words2.keys()))\n",
      "    word_sigs = sorted([ (w, max(words1[w]/words2[w], words2[w]/words1[w])) for w in common], key = lambda p: p[1])\n",
      "    return word_sigs"
     ],
     "language": "python",
     "metadata": {},
     "outputs": [],
     "prompt_number": 36
    },
    {
     "cell_type": "code",
     "collapsed": false,
     "input": [
      "sig_words = significant_words(computer_text, fruit_text)\n",
      "_ = plt.hist(map(lambda p: p[1], sig_words), bins = 100)\n",
      "print np.percentile(map(lambda p: p[1], sig_words), q = 50)"
     ],
     "language": "python",
     "metadata": {},
     "outputs": [
      {
       "output_type": "stream",
       "stream": "stdout",
       "text": [
        "2.12938262195\n"
       ]
      },
      {
       "metadata": {},
       "output_type": "display_data",
       "png": "[encoded data removed]",
       "text": [
        "<matplotlib.figure.Figure at 0x48601d0>"
       ]
      }
     ],
     "prompt_number": 46
    },
    {
     "cell_type": "code",
     "collapsed": false,
     "input": [
      "voc = [w for w,s in sig_words if s > np.percentile(map(lambda p: p[1], sig_words), q = 20)]"
     ],
     "language": "python",
     "metadata": {},
     "outputs": [],
     "prompt_number": 54
    },
    {
     "cell_type": "code",
     "collapsed": false,
     "input": [],
     "language": "python",
     "metadata": {},
     "outputs": [],
     "prompt_number": 54
    },
    {
     "cell_type": "code",
     "collapsed": false,
     "input": [
      "from collections import Counter\n",
      "\n",
      "computer_tf = Counter(parse_words(computer_text, text.ENGLISH_STOP_WORDS))\n",
      "fruit_tf = Counter(parse_words(fruit_text, text.ENGLISH_STOP_WORDS))"
     ],
     "language": "python",
     "metadata": {},
     "outputs": [],
     "prompt_number": 55
    },
    {
     "cell_type": "code",
     "collapsed": false,
     "input": [
      "print computer_tf.most_common(10)\n",
      "print fruit_tf.most_common(10)"
     ],
     "language": "python",
     "metadata": {},
     "outputs": [
      {
       "output_type": "stream",
       "stream": "stdout",
       "text": [
        "[('apple', 384), ('iphone', 59), ('company', 54), ('jobs', 52), ('new', 48), ('mac', 39), ('2012', 39), ('introduced', 36), ('ipad', 34), ('macintosh', 33)]\n",
        "[('apple', 112), ('apples', 88), ('fruit', 37), ('cultivars', 24), ('tree', 22), ('malus', 19), ('trees', 17), ('mg', 15), ('year', 14), ('used', 14)]\n"
       ]
      }
     ],
     "prompt_number": 56
    },
    {
     "cell_type": "code",
     "collapsed": false,
     "input": [
      "fruit_tf[\"introduced\"]"
     ],
     "language": "python",
     "metadata": {},
     "outputs": [
      {
       "metadata": {},
       "output_type": "pyout",
       "prompt_number": 57,
       "text": [
        "1"
       ]
      }
     ],
     "prompt_number": 57
    },
    {
     "cell_type": "code",
     "collapsed": false,
     "input": [
      "from sklearn.feature_extraction import text\n",
      "from scipy.spatial import distance\n",
      "\n",
      "computer_text = open(\"data/apple-computers.txt\").read()\n",
      "fruit_text = open(\"data/apple-fruit.txt\").read()\n",
      "\n",
      "vectorizer = text.TfidfVectorizer(use_idf=False, stop_words=\"english\", ngram_range=(1, 1), vocabulary=voc)\n",
      "computer_vec, fruit_vec = vectorizer.fit_transform([computer_text, fruit_text])\n",
      "computer_vec, fruit_vec = map(lambda v: v.toarray().flatten(), [computer_vec, fruit_vec])\n",
      "\n",
      "\n",
      "n = input()\n",
      "for _ in xrange(n):\n",
      "    text = raw_input()\n",
      "    v = vectorizer.transform(text).toarray().flatten()\n",
      "    if distance.cosine(v, computer_vec) < distance.cosine(v, fruit_vec):\n",
      "        print \"computer-company\"\n",
      "    else:\n",
      "        print \"fruit\"\n"
     ],
     "language": "python",
     "metadata": {},
     "outputs": [
      {
       "name": "stdout",
       "output_type": "stream",
       "stream": "stdout",
       "text": [
        "10 Apple already plans to buy back $100 billion in shares, including $16 billion worth last quarter. Icahn probably pounded the dinner table he and Cook shared recently for their much-reported bread-breaking at Icahn's New York apartment. Apple's cash stash currently sits at a whopping $145 billion but only $43 billion is in the U.S., which is why Icahn wants to float bonds to cover a buy back. Fortunately, there are \ufffd\ufffd\ufffdlow-chill\ufffd\ufffd\ufffd apple varieties for temperate climates. (Chilling hours are defined as nonconsecutive hours of winter temperatures below 45 degrees.) As a general guide, if you live on or near the coast, your garden gets only 100 to 200 chilling hours. Inland San Diego gardens get about 400 to 500 chilling hours \ufffd\ufffd\ufffd still considered \ufffd\ufffd\ufffdlow chill.\ufffd\ufffd\ufffd If this seems a bit like d\ufffd\ufffdj\ufffd\ufffd vu, you\ufffd\ufffd\ufffdll recall that Apple just held an event to unveil two new iPhone models \ufffd\ufffd\ufffd the 5c and 5s \ufffd\ufffd\ufffd back on September 10. \ufffd\ufffd\ufffdBoth Samsung and Apple are important contributors to the U.S. economy and help advance innovation and technological progress,\ufffd\ufffd\ufffd the trade representative said as part of its statement. Icahn says he has claimed a sizeable stake in Apple, and he wants Cook to take advantage of low interest rates to issue bonds to finance the additional buyback. While Icahn is wont to wax aimlessly on CNBC about what a great company Apple is and how loyal its customers are, the activist investor probably does not care about Apple employees or the future of the Cupertino, Calif., company. He's looking for a quick killing before he's on to the next thing, which is what he does. This ingredient can be used the same way as other vinegars \ufffd\ufffd\ufffd it's great as a component of homemade salad dressings, for example. But some people get a bit more extreme than that, drinking it as a tonic or even taking it straight because of its purported health effects. Some of the claims of the ingredient's benefits are overblown, but there are still many reasons to bring a bottle of apple cider vinegar into your pantry. Here are 12 of them, from the top of your head to Fido's furry paws. Ursolic acid - a waxy substance found in apple peel - increases muscle and brown fat in mice that are on a high-fat diet. Apples are known to contain pectin, a soluble fiber. They also have insoluble fiber. Increased fiber intake has been linked with improvements in blood lipid levels. Eating a medium-sized apple, with the skin, provides about 4 grams of fiber. Most of the fibre in apples comes from the skin and the pulp. When you remove the skin, you remove about half the fibre. A medium apple with skin contains 3.3 grams of fibre, whereas a medium without skin has only 1.7 grams. Apple-sauce and apple juice contain even less. Dietary fibre is important for weight management, because it keeps you fuller longer. Dietary fibre from fruit, as part of an overall healthful diet, helps reduce blood cholesterol levels and might lower the risk of heart disease, obesity and Type 2 diabetes. Plus, fibre aids in proper bowel function and helps to reduce constipation. The fifth-generation iPad is expected to feature a thinner, lighter design akin to the iPad mini\ufffd\ufffd\ufffds, and an improved camera. It will run Apple\ufffd\ufffd\ufffds new 64-bit A7 chip. The second-generation iPad mini will be upgraded with a retina display and also likely see the A7 incorporated into its innards. It\ufffd\ufffd\ufffds not clear whether Apple\ufffd\ufffd\ufffds new iPads will feature the Touch ID fingerprint sensor that recently debuted on the iPhone 5s, though that has been rumored.\n"
       ]
      },
      {
       "ename": "SyntaxError",
       "evalue": "invalid syntax (<string>, line 1)",
       "output_type": "pyerr",
       "traceback": [
        "\u001b[1;36m  File \u001b[1;32m\"<string>\"\u001b[1;36m, line \u001b[1;32m1\u001b[0m\n\u001b[1;33m    10 Apple already plans to buy back $100 billion in shares, including $16 billion worth last quarter. Icahn probably pounded the dinner table he and Cook shared recently for their much-reported bread-breaking at Icahn's New York apartment. Apple's cash stash currently sits at a whopping $145 billion but only $43 billion is in the U.S., which is why Icahn wants to float bonds to cover a buy back. Fortunately, there are \ufffd\ufffd\ufffdlow-chill\ufffd\ufffd\ufffd apple varieties for temperate climates. (Chilling hours are defined as nonconsecutive hours of winter temperatures below 45 degrees.) As a general guide, if you live on or near the coast, your garden gets only 100 to 200 chilling hours. Inland San Diego gardens get about 400 to 500 chilling hours \ufffd\ufffd\ufffd still considered \ufffd\ufffd\ufffdlow chill.\ufffd\ufffd\ufffd If this seems a bit like d\ufffd\ufffdj\ufffd\ufffd vu, you\ufffd\ufffd\ufffdll recall that Apple just held an event to unveil two new iPhone models \ufffd\ufffd\ufffd the 5c and 5s \ufffd\ufffd\ufffd back on September 10. \ufffd\ufffd\ufffdBoth Samsung and Apple are important contributors to the U.S. economy and help advance innovation and technological progress,\ufffd\ufffd\ufffd the trade representative said as part of its statement. Icahn says he has claimed a sizeable stake in Apple, and he wants Cook to take advantage of low interest rates to issue bonds to finance the additional buyback. While Icahn is wont to wax aimlessly on CNBC about what a great company Apple is and how loyal its customers are, the activist investor probably does not care about Apple employees or the future of the Cupertino, Calif., company. He's looking for a quick killing before he's on to the next thing, which is what he does. This ingredient can be used the same way as other vinegars \ufffd\ufffd\ufffd it's great as a component of homemade salad dressings, for example. But some people get a bit more extreme than that, drinking it as a tonic or even taking it straight because of its purported health effects. Some of the claims of the ingredient's benefits are overblown, but there are still many reasons to bring a bottle of apple cider vinegar into your pantry. Here are 12 of them, from the top of your head to Fido's furry paws. Ursolic acid - a waxy substance found in apple peel - increases muscle and brown fat in mice that are on a high-fat diet. Apples are known to contain pectin, a soluble fiber. They also have insoluble fiber. Increased fiber intake has been linked with improvements in blood lipid levels. Eating a medium-sized apple, with the skin, provides about 4 grams of fiber. Most of the fibre in apples comes from the skin and the pulp. When you remove the skin, you remove about half the fibre. A medium apple with skin contains 3.3 grams of fibre, whereas a medium without skin has only 1.7 grams. Apple-sauce and apple juice contain even less. Dietary fibre is important for weight management, because it keeps you fuller longer. Dietary fibre from fruit, as part of an overall healthful diet, helps reduce blood cholesterol levels and might lower the risk of heart disease, obesity and Type 2 diabetes. Plus, fibre aids in proper bowel function and helps to reduce constipation. The fifth-generation iPad is expected to feature a thinner, lighter design akin to the iPad mini\ufffd\ufffd\ufffds, and an improved camera. It will run Apple\ufffd\ufffd\ufffds new 64-bit A7 chip. The second-generation iPad mini will be upgraded with a retina display and also likely see the A7 incorporated into its innards. It\ufffd\ufffd\ufffds not clear whether Apple\ufffd\ufffd\ufffds new iPads will feature the Touch ID fingerprint sensor that recently debuted on the iPhone 5s, though that has been rumored.\u001b[0m\n\u001b[1;37m           ^\u001b[0m\n\u001b[1;31mSyntaxError\u001b[0m\u001b[1;31m:\u001b[0m invalid syntax\n"
       ]
      }
     ],
     "prompt_number": 60
    },
    {
     "cell_type": "code",
     "collapsed": false,
     "input": [
      "computer_vec.shape"
     ],
     "language": "python",
     "metadata": {},
     "outputs": [
      {
       "metadata": {},
       "output_type": "pyout",
       "prompt_number": 59,
       "text": [
        "(492,)"
       ]
      }
     ],
     "prompt_number": 59
    },
    {
     "cell_type": "code",
     "collapsed": false,
     "input": [],
     "language": "python",
     "metadata": {},
     "outputs": []
    }
   ],
   "metadata": {}
  }
 ]
}