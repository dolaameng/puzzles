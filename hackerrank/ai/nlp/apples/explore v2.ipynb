{
 "metadata": {
  "name": "",
  "signature": "sha256:efe6e036f2b4237b6d674cbfc6245ec48b7f090f5c869be253dea41affd35c4d"
 },
 "nbformat": 3,
 "nbformat_minor": 0,
 "worksheets": [
  {
   "cells": [
    {
     "cell_type": "code",
     "collapsed": false,
     "input": [
      "import matplotlib.pyplot as plt\n",
      "import numpy as np\n",
      "%matplotlib inline"
     ],
     "language": "python",
     "metadata": {},
     "outputs": [],
     "prompt_number": 2
    },
    {
     "cell_type": "code",
     "collapsed": false,
     "input": [
      "computer_texts = filter(lambda line: len(line.strip()) > 0, open(\"data/apple-computers.txt\").read().split(\"\\n\\n\\n\"))\n",
      "fruit_texts = filter(lambda line: len(line.strip()) > 0, open(\"data/apple-fruit.txt\").read().split(\"\\n\\n\\n\"))"
     ],
     "language": "python",
     "metadata": {},
     "outputs": [],
     "prompt_number": 3
    },
    {
     "cell_type": "code",
     "collapsed": false,
     "input": [
      "len(fruit_texts)"
     ],
     "language": "python",
     "metadata": {},
     "outputs": [
      {
       "metadata": {},
       "output_type": "pyout",
       "prompt_number": 4,
       "text": [
        "15"
       ]
      }
     ],
     "prompt_number": 4
    },
    {
     "cell_type": "code",
     "collapsed": false,
     "input": [
      "print fruit_texts[6]"
     ],
     "language": "python",
     "metadata": {},
     "outputs": [
      {
       "output_type": "stream",
       "stream": "stdout",
       "text": [
        "\n",
        "Red and Green apples in India\n",
        "Main article: List of apple cultivars\n",
        "There are more than 7,500 known cultivars of apples.[35] Cultivars vary in their yield and the ultimate size of the tree, even when grown on the same rootstock.[36] Different cultivars are available for temperate and subtropical climates. The UK's National Fruit Collection, which is the responsibility of the Department of Environment Food and Rural Affairs, has a collection of over 2,000 accessions in Kent.[37] The University of Reading, which is responsible for developing the UK national collection database, provides access to search the national collection. The University of Reading's work is part of the European Cooperative Programme for Plant Genetic Resources of which there are 38 countries participating in the Malus/Pyrus work group.[38]\n",
        "The UK's national fruit collection database contains a wealth of information on the characteristics and origin of many apples, including alternative names for what is essentially the same 'genetic' apple variety. Most of these cultivars are bred for eating fresh (dessert apples), though some are cultivated specifically for cooking (cooking apples) or producing cider. Cider apples are typically too tart and astringent to eat fresh, but they give the beverage a rich flavour that dessert apples cannot.[39]\n",
        "Commercially popular apple cultivars are soft but crisp. Other desired qualities in modern commercial apple breeding are a colourful skin, absence of russeting, ease of shipping, lengthy storage ability, high yields, disease resistance, common apple shape, and developed flavour.[36] Modern apples are generally sweeter than older cultivars, as popular tastes in apples have varied over time. Most North Americans and Europeans favour sweet, subacid apples, but tart apples have a strong minority following.[40] Extremely sweet apples with barely any acid flavour are popular in Asia[40] and especially India.[39]\n",
        "Old cultivars are often oddly shaped, russeted, and have a variety of textures and colours. Some find them to have a better flavour than modern cultivars,[41] but may have other problems which make them commercially unviable from low yield, disease susceptibility, or poor tolerance for storage or transport. A few old cultivars are still produced on a large scale, but many have been preserved by home gardeners and farmers that sell directly to local markets. Many unusual and locally important cultivars with their own unique taste and appearance exist; apple conservation campaigns have sprung up around the world to preserve such local cultivars from extinction. In the United Kingdom, old cultivars such as 'Cox's Orange Pippin' and 'Egremont Russet' are still commercially important even though by modern standards they are low yielding and susceptible to disease.[3]\n",
        "Cultivation\n",
        "\n",
        "Breeding\n",
        "See also: Fruit tree propagation and Malling series\n"
       ]
      }
     ],
     "prompt_number": 5
    },
    {
     "cell_type": "code",
     "collapsed": false,
     "input": [
      "print computer_texts[6]"
     ],
     "language": "python",
     "metadata": {},
     "outputs": [
      {
       "output_type": "stream",
       "stream": "stdout",
       "text": [
        "Apple retail stores allow potential customers to use floor models without making a purchase.\n",
        "(Apple Store, North Michigan Avenue, Chicago, Illinois in 2005)\n",
        "Mac OS X, based on NeXT's OPENSTEP and BSD Unix was released on March 24, 2001, after several years of development. Aimed at consumers and professionals alike, Mac OS X aimed to combine the stability, reliability and security of Unix with the ease of use afforded by an overhauled user interface. To aid users in migrating from Mac OS 9, the new operating system allowed the use of OS 9 applications through Mac OS X's Classic environment.[76]\n",
        "On May 19, 2001, Apple opened the first official Apple Retail Stores in Virginia and California.[77] On July 9, they bought Spruce Technologies, a DVD authoring company. On October 23 of the same year, Apple announced the iPod portable digital audio player, and started selling it on November 10. The product was phenomenally successful \u2014 over 100 million units were sold within six years.[78][79] In 2003, Apple's iTunes Store was introduced, offering online music downloads for $0.99 a song and integration with the iPod. The service quickly became the market leader in online music services, with over 5 billion downloads by June 19, 2008.[80]\n",
        "Since 2001, Apple's design team has progressively abandoned the use of translucent colored plastics first used in the iMac G3. This began with the titanium PowerBook and was followed by the white polycarbonate iBook and the flat-panel iMac.[81][82]\n",
        "2005\u201307: Transition to Intel\n",
        "Main article: Apple's transition to Intel processors\n"
       ]
      }
     ],
     "prompt_number": 6
    },
    {
     "cell_type": "code",
     "collapsed": false,
     "input": [
      "import re\n",
      "def feat(doc):\n",
      "    pat = re.compile(r\"apples|apple|Apple|Apples\", re.IGNORECASE)\n",
      "    apples = pat.findall(doc)\n",
      "    Apples = [w for w in apples if w==\"Apple\"]\n",
      "    return len(Apples) * 1./ len(apples)"
     ],
     "language": "python",
     "metadata": {},
     "outputs": [],
     "prompt_number": 25
    },
    {
     "cell_type": "code",
     "collapsed": false,
     "input": [
      "map(feat, computer_texts)"
     ],
     "language": "python",
     "metadata": {},
     "outputs": [
      {
       "metadata": {},
       "output_type": "pyout",
       "prompt_number": 26,
       "text": [
        "[1.0,\n",
        " 1.0,\n",
        " 1.0,\n",
        " 1.0,\n",
        " 1.0,\n",
        " 1.0,\n",
        " 1.0,\n",
        " 1.0,\n",
        " 1.0,\n",
        " 1.0,\n",
        " 1.0,\n",
        " 1.0,\n",
        " 1.0,\n",
        " 0.9375,\n",
        " 1.0,\n",
        " 1.0,\n",
        " 1.0]"
       ]
      }
     ],
     "prompt_number": 26
    },
    {
     "cell_type": "code",
     "collapsed": false,
     "input": [
      "map(feat, fruit_texts)"
     ],
     "language": "python",
     "metadata": {},
     "outputs": [
      {
       "metadata": {},
       "output_type": "pyout",
       "prompt_number": 27,
       "text": [
        "[0.2777777777777778,\n",
        " 0.0,\n",
        " 0.125,\n",
        " 0.0,\n",
        " 0.0,\n",
        " 0.0,\n",
        " 0.0,\n",
        " 0.058823529411764705,\n",
        " 1.0,\n",
        " 0.0,\n",
        " 0.26666666666666666,\n",
        " 0.0,\n",
        " 0.0,\n",
        " 0.037037037037037035,\n",
        " 0.12]"
       ]
      }
     ],
     "prompt_number": 27
    },
    {
     "cell_type": "code",
     "collapsed": false,
     "input": [
      "fruit_texts[8]"
     ],
     "language": "python",
     "metadata": {},
     "outputs": [
      {
       "metadata": {},
       "output_type": "pyout",
       "prompt_number": 10,
       "text": [
        "'Apple blossom from an old Ayrshire variety'"
       ]
      }
     ],
     "prompt_number": 10
    },
    {
     "cell_type": "code",
     "collapsed": false,
     "input": [
      "pat = re.compile(r\"apples|apple|Apple\")\n",
      "apples = pat.findall(fruit_texts[0])\n",
      "print apples"
     ],
     "language": "python",
     "metadata": {},
     "outputs": [
      {
       "output_type": "stream",
       "stream": "stdout",
       "text": [
        "['Apple', 'Apple', 'Apple', 'Apple', 'Apple', 'apple', 'apple', 'apple', 'Apple', 'Apple', 'Apple', 'apple', 'apples', 'apples', 'apples', 'apples', 'Apple', 'apples']\n"
       ]
      }
     ],
     "prompt_number": 19
    },
    {
     "cell_type": "code",
     "collapsed": false,
     "input": [
      "pat = re.compile(r\"apple\", re.IGNORECASE)\n",
      "apples = pat.findall(fruit_texts[0])\n",
      "print apples"
     ],
     "language": "python",
     "metadata": {},
     "outputs": [
      {
       "output_type": "stream",
       "stream": "stdout",
       "text": [
        "['Apple', 'Apple', 'Apple', 'Apple', 'Apple', 'apple', 'apple', 'apple', 'Apple', 'Apple', 'Apple', 'apple', 'apple', 'apple', 'apple', 'apple', 'Apple', 'apple']\n"
       ]
      }
     ],
     "prompt_number": 20
    },
    {
     "cell_type": "code",
     "collapsed": false,
     "input": [
      "for t in fruit_texts:\n",
      "    print t"
     ],
     "language": "python",
     "metadata": {},
     "outputs": [
      {
       "output_type": "stream",
       "stream": "stdout",
       "text": [
        "This article is about the fruit. For the technology company, see Apple Inc.. For other uses, see Apple (disambiguation).\n",
        "\"Apple tree\" redirects here. For other uses, see Apple tree (disambiguation).\n",
        "Page semi-protectedThis is a good article. Click here for more information.\n",
        "Apple\n",
        "\n",
        "A typical apple\n",
        "Scientific classification\n",
        "Kingdom:\tPlantae\n",
        "(unranked):\tAngiosperms\n",
        "(unranked):\tEudicots\n",
        "(unranked):\tRosids\n",
        "Order:\tRosales\n",
        "Family:\tRosaceae\n",
        "Genus:\tMalus\n",
        "Species:\tM. domestica\n",
        "Binomial name\n",
        "Malus domestica\n",
        "Borkh., 1803\n",
        "Synonyms\n",
        "Malus communis Desf.\n",
        "Malus pumila auct.[1]\n",
        "Pyrus malus L.[2]\n",
        "The apple is the pomaceous fruit of the apple tree, species Malus domestica in the rose family (Rosaceae). It is one of the most widely cultivated tree fruits, and the most widely known of the many members of genus Malus that are used by humans. Apples grow on small, deciduous trees. The tree originated in Central Asia, where its wild ancestor, Malus sieversii, is still found today. Apples have been grown for thousands of years in Asia and Europe, and were brought to North America by European colonists. Apples have been present in the mythology and religions of many cultures, including Norse, Greek and Christian traditions. In 2010, the fruit's genome was decoded, leading to new understandings of disease control and selective breeding in apple production.\n",
        "There are more than 7,500 known cultivars of apples, resulting in a range of desired characteristics. Different cultivars are bred for various tastes and uses, including cooking, fresh eating and cider production. Domestic apples are generally propagated by grafting, although wild apples grow readily from seed. Trees are prone to a number of fungal, bacterial and pest problems, which can be controlled by a number of organic and non-organic means.\n",
        "About 69 million tonnes of apples were grown worldwide in 2010, and China produced almost half of this total. The United States is the second-leading producer, with more than 6% of world production. Turkey is third, followed by Italy, India and Poland. Apples are often eaten raw, but can also be found in many prepared foods (especially desserts) and drinks. Many beneficial health effects are thought to result from eating apples; however, two forms of allergies are seen to various proteins found in the fruit.\n",
        "\n",
        "Botanical information\n",
        "\n",
        "Blossoms, fruits, and leaves of the apple tree (Malus domestica)\n",
        "The apple forms a tree that is small and deciduous, generally standing 6 to 15 feet (1.8 to 4.6 m) tall in cultivation and up to 30 feet (9.1 m) in the wild. When cultivated, the size, shape and branch density is determined by rootstock selection and trimming method. The leaves are alternately arranged dark green-colored simple ovals with serrated margins and slightly downy undersides.[3]\n",
        "Blossoms are produced in spring simultaneously with the budding of the leaves, and are produced on spurs and some long shoots. The 3 to 4 centimetres (1.2 to 1.6 in) flowers are white with a pink tinge that gradually fades, five petaled, with an inflorescence consisting of a cyme with 4-6 flowers. The central flower of the inflorescence is called the \"king bloom\"; it opens first, and can develop a larger fruit.[3][4]\n",
        "The fruit matures in autumn, and varieties exist with a wide range of sizes. Commercial growers aim to produce an apple that is 2.75 to 3.25 inches (7.0 to 8.3 cm) in diameter, due to market preference. Some consumers, especially those in Japan, prefer a larger apple, while apples below 2.25 inches (5.7 cm) are generally used for making juice and have little fresh market value. The skin of ripe apples is generally red, yellow, green or pink, although many bi- or tri-colored varieties may be found.[5] The skin may also be wholly or partly russeted i.e. rough and brown. The skin is covered in a protective layer of epicuticular wax,[6] The flesh is generally pale yellowish-white, [5] though pink or yellow flesh is also known.\n",
        "Wild ancestors\n",
        "Main article: Malus sieversii\n",
        "The original wild ancestor of Malus domestica was Malus sieversii, found growing wild in the mountains of Central Asia in southern Kazakhstan, Kyrgyzstan, Tajikistan, and Xinjiang, China.[3][7] Cultivation of the species, most likely beginning on the forested flanks of the Tian Shan mountains, progressed over a long period of time and permitted secondary introgression of genes from other species into the open-pollinated seeds. Significant exchange with Malus sylvestris, the crabapple, resulted in current populations of apples to be more related to crabapples than to the more morphologically similar progenitor Malus sieversii. In strains without recent admixture the contribution of the latter predominates.[8][9][10]\n",
        "Genome\n",
        "In 2010, an Italian-led consortium announced they had decoded the complete genome of the apple in collaboration with horticultural genomicists at Washington State University,[11] using the Golden delicious variety.[12] It had about 57,000 genes, the highest number of any plant genome studied to date[13] and more genes than the human genome (about 30,000).[14] This new understanding of the apple genome will help scientists in identifying genes and gene variants that contribute to resistance to disease and drought, and other desirable characteristics. Understanding the genes behind these characteristics will allow scientists to perform more knowledgeable selective breeding. Decoding the genome also provided proof that Malus sieversii was the wild ancestor of the domestic apple\u2014an issue that had been long-debated in the scientific community.[15]\n",
        "History\n",
        "\n",
        "Wild Malus sieversii apple in Kazakhstan\n",
        "The center of diversity of the genus Malus is in eastern Turkey. The apple tree was perhaps the earliest tree to be cultivated,[16] and its fruits have been improved through selection over thousands of years. Alexander the Great is credited with finding dwarfed apples in Kazakhstan in Asia in 328 BCE;[3] those he brought back to Macedonia might have been the progenitors of dwarfing root stocks. Winter apples, picked in late autumn and stored just above freezing, have been an important food in Asia and Europe for millennia.[16]\n",
        "Apples were brought to North America by colonists in the 17th century,[3] and the first apple orchard on the North American continent was planted in Boston by Reverend William Blaxton in 1625.[17] The only apples native to North America are crab apples, which were once called \"common apples\".[18] Apple varieties brought as seed from Europe were spread along Native American trade routes, as well as being cultivated on Colonial farms. An 1845 United States apples nursery catalogue sold 350 of the \"best\" varieties, showing the proliferation of new North American varieties by the early 19th century.[18] In the 20th century, irrigation projects in Washington state began and allowed the development of the multibillion dollar fruit industry, of which the apple is the leading product.[3]\n",
        "Until the 20th century, farmers stored apples in frostproof cellars during the winter for their own use or for sale. Improved transportation of fresh apples by train and road replaced the necessity for storage.[19][20] In the 21st century, long-term storage again came into popularity, as \"controlled atmosphere\" facilities were used to keep apples fresh year-round. Controlled atmosphere facilities use high humidity and low oxygen and carbon dioxide levels to maintain fruit freshness.[21]\n",
        "Cultural aspects\n",
        "\n",
        "Main article: Apple (symbolism)\n",
        "\"Brita as Iduna\" (1901) by Carl Larsson\n",
        "Germanic paganism\n",
        "In Norse mythology, the goddess I\u00f0unn is portrayed in the Prose Edda (written in the 13th century by Snorri Sturluson) as providing apples to the gods that give them eternal youthfulness. English scholar H. R. Ellis Davidson links apples to religious practices in Germanic paganism, from which Norse paganism developed. She points out that buckets of apples were found in the Oseberg ship burial site in Norway, and that fruit and nuts (I\u00f0unn having been described as being transformed into a nut in Sk\u00e1ldskaparm\u00e1l) have been found in the early graves of the Germanic peoples in England and elsewhere on the continent of Europe, which may have had a symbolic meaning, and that nuts are still a recognized symbol of fertility in southwest England.[22]\n",
        "Davidson notes a connection between apples and the Vanir, a tribe of gods associated with fertility in Norse mythology, citing an instance of eleven \"golden apples\" being given to woo the beautiful Ger\u00f0r by Sk\u00edrnir, who was acting as messenger for the major Vanir god Freyr in stanzas 19 and 20 of Sk\u00edrnism\u00e1l. Davidson also notes a further connection between fertility and apples in Norse mythology in chapter 2 of the V\u00f6lsunga saga when the major goddess Frigg sends King Rerir an apple after he prays to Odin for a child, Frigg's messenger (in the guise of a crow) drops the apple in his lap as he sits atop a mound.[23] Rerir's wife's consumption of the apple results in a six-year pregnancy and the Caesarean section birth of their son\u2014the hero V\u00f6lsung.[24]\n",
        "Further, Davidson points out the \"strange\" phrase \"Apples of Hel\" used in an 11th-century poem by the skald Thorbiorn Br\u00fanarson. She states this may imply that the apple was thought of by Br\u00fanarson as the food of the dead. Further, Davidson notes that the potentially Germanic goddess Nehalennia is sometimes depicted with apples and that parallels exist in early Irish stories. Davidson asserts that while cultivation of the apple in Northern Europe extends back to at least the time of the Roman Empire and came to Europe from the Near East, the native varieties of apple trees growing in Northern Europe are small and bitter. Davidson concludes that in the figure of I\u00f0unn \"we must have a dim reflection of an old symbol: that of the guardian goddess of the life-giving fruit of the other world.\"[22]\n",
        "Greek mythology\n",
        "Heracles with the apple of Hesperides\n",
        "Apples appear in many religious traditions, often as a mystical or forbidden fruit. One of the problems identifying apples in religion, mythology and folktales is that the word \"apple\" was used as a generic term for all (foreign) fruit, other than berries, including nuts, as late as the 17th century.[25] For instance, in Greek mythology, the Greek hero Heracles, as a part of his Twelve Labours, was required to travel to the Garden of the Hesperides and pick the golden apples off the Tree of Life growing at its center.[26][27][28]\n",
        "The Greek goddess of discord, Eris, became disgruntled after she was excluded from the wedding of Peleus and Thetis.[29] In retaliation, she tossed a golden apple inscribed \u039a\u03b1\u03bb\u03bb\u03af\u03c3\u03c4\u03b7 (Kalliste, sometimes transliterated Kallisti, 'For the most beautiful one'), into the wedding party. Three goddesses claimed the apple: Hera, Athena, and Aphrodite. Paris of Troy was appointed to select the recipient. After being bribed by both Hera and Athena, Aphrodite tempted him with the most beautiful woman in the world, Helen of Sparta. He awarded the apple to Aphrodite, thus indirectly causing the Trojan War.\n",
        "The apple was thus considered, in ancient Greece, to be sacred to Aphrodite, and to throw an apple at someone was to symbolically declare one's love; and similarly, to catch it was to symbolically show one's acceptance of that love.[30] An epigram claiming authorship by Plato states:\n",
        "I throw the apple at you, and if you are willing to love me, take it and share your girlhood with me; but if your thoughts are what I pray they are not, even then take it, and consider how short-lived is beauty.\n",
        "\u2014Plato, Epigram VII[31]\n",
        "Atalanta, also of Greek mythology, raced all her suitors in an attempt to avoid marriage. She outran all but Hippomenes (also known as Melanion, a name possibly derived from melon the Greek word for both \"apple\" and fruit in general),[27] who defeated her by cunning, not speed. Hippomenes knew that he could not win in a fair race, so he used three golden apples (gifts of Aphrodite, the goddess of love) to distract Atalanta. It took all three apples and all of his speed, but Hippomenes was finally successful, winning the race and Atalanta's hand.[26]\n",
        "The forbidden fruit in the Garden of Eden\n",
        "Adam and Eve\n",
        "Showcasing the apple as a symbol of sin.\n",
        "Albrecht D\u00fcrer, 1507\n",
        "Though the forbidden fruit of Eden in the Book of Genesis is not identified, popular Christian tradition has held that it was an apple that Eve coaxed Adam to share with her.[32] The origin of the popular identification with a fruit unknown in the Middle East in biblical times is found in confusion between the Latin words m\u0101lum (an apple) and m\u0103lum (an evil), each of which is normally written malum.[33] The tree of the forbidden fruit is called \"the tree of the knowledge of good and evil\" in Genesis 2:17, and the Latin for \"good and evil\" is bonum et malum.[34]\n",
        "Renaissance painters may also have been influenced by the story of the golden apples in the Garden of Hesperides. As a result, in the story of Adam and Eve, the apple became a symbol for knowledge, immortality, temptation, the fall of man into sin, and sin itself. The larynx in the human throat has been called Adam's apple because of a notion that it was caused by the forbidden fruit remaining in the throat of Adam.[32] The apple as symbol of sexual seduction has been used to imply sexuality between men, possibly in an ironic vein.[32]\n",
        "Cultivars\n",
        "\n",
        "Red and Green apples in India\n",
        "Main article: List of apple cultivars\n",
        "There are more than 7,500 known cultivars of apples.[35] Cultivars vary in their yield and the ultimate size of the tree, even when grown on the same rootstock.[36] Different cultivars are available for temperate and subtropical climates. The UK's National Fruit Collection, which is the responsibility of the Department of Environment Food and Rural Affairs, has a collection of over 2,000 accessions in Kent.[37] The University of Reading, which is responsible for developing the UK national collection database, provides access to search the national collection. The University of Reading's work is part of the European Cooperative Programme for Plant Genetic Resources of which there are 38 countries participating in the Malus/Pyrus work group.[38]\n",
        "The UK's national fruit collection database contains a wealth of information on the characteristics and origin of many apples, including alternative names for what is essentially the same 'genetic' apple variety. Most of these cultivars are bred for eating fresh (dessert apples), though some are cultivated specifically for cooking (cooking apples) or producing cider. Cider apples are typically too tart and astringent to eat fresh, but they give the beverage a rich flavour that dessert apples cannot.[39]\n",
        "Commercially popular apple cultivars are soft but crisp. Other desired qualities in modern commercial apple breeding are a colourful skin, absence of russeting, ease of shipping, lengthy storage ability, high yields, disease resistance, common apple shape, and developed flavour.[36] Modern apples are generally sweeter than older cultivars, as popular tastes in apples have varied over time. Most North Americans and Europeans favour sweet, subacid apples, but tart apples have a strong minority following.[40] Extremely sweet apples with barely any acid flavour are popular in Asia[40] and especially India.[39]\n",
        "Old cultivars are often oddly shaped, russeted, and have a variety of textures and colours. Some find them to have a better flavour than modern cultivars,[41] but may have other problems which make them commercially unviable from low yield, disease susceptibility, or poor tolerance for storage or transport. A few old cultivars are still produced on a large scale, but many have been preserved by home gardeners and farmers that sell directly to local markets. Many unusual and locally important cultivars with their own unique taste and appearance exist; apple conservation campaigns have sprung up around the world to preserve such local cultivars from extinction. In the United Kingdom, old cultivars such as 'Cox's Orange Pippin' and 'Egremont Russet' are still commercially important even though by modern standards they are low yielding and susceptible to disease.[3]\n",
        "Cultivation\n",
        "\n",
        "Breeding\n",
        "See also: Fruit tree propagation and Malling series\n",
        "Apple pot\n",
        "In the wild, apples grow readily from seeds. However, like most perennial fruits, apples are ordinarily propagated asexually by grafting. This is because seedling apples are an example of \"extreme heterozygotes\", in that rather than inheriting DNA from their parents to create a new apple with those characteristics, they are instead significantly different from their parents.[42] Triploid varieties have an additional reproductive barrier in that 3 sets of chromosomes cannot be divided evenly during meiosis, yielding unequal segregation of the chromosomes (aneuploids). Even in the case when a triploid plant can produce a seed (apples are an example), it occurs infrequently, and seedlings rarely survive.[43]\n",
        "Because apples do not breed true when planted as seeds, grafting is generally used to produce new apple trees. The rootstock used for the bottom of the graft can be selected to produce trees of a large variety of sizes, as well as changing the winter hardiness, insect and disease resistance, and soil preference of the resulting tree. Dwarf rootstocks can be used to produce very small trees (less than 10 feet (3.0 m) high at maturity), which bear fruit earlier in their life cycle than full size trees.[44] Dwarf rootstocks for apple trees can be traced as far back as 300 BC, to the area of Persia and Asia Minor. Alexander the Great sent samples of dwarf apple trees to Aristotle's Lyceum. Dwarf rootstocks became common by the 15th century, and later went through several cycles of popularity and decline throughout the world.[45] The majority of the rootstocks used today to control size in apples were developed in England in the early 1900s. The East Malling Research Station conducted extensive research into rootstocks, and today their rootstocks are given an \"M\" prefix to designate their origin. Rootstocks marked with an \"MM\" prefix are Malling-series varieties later crossed with trees of the Northern Spy variety in Merton, England.[46]\n",
        "Most new apple cultivars originate as seedlings, which either arise by chance or are bred by deliberately crossing cultivars with promising characteristics.[47] The words 'seedling', 'pippin', and 'kernel' in the name of an apple cultivar suggest that it originated as a seedling. Apples can also form bud sports (mutations on a single branch). Some bud sports turn out to be improved strains of the parent cultivar. Some differ sufficiently from the parent tree to be considered new cultivars.[48]\n",
        "Since the 1930s, the Excelsior Experiment Station at the University of Minnesota has introduced a steady progression of important apples that are widely grown, both commercially and by local orchardists, throughout Minnesota and Wisconsin. Its most important contributions have included 'Haralson' (which is the most widely cultivated apple in Minnesota), 'Wealthy', 'Honeygold', and 'Honeycrisp'.\n",
        "Apples have been acclimatized in Ecuador at very high altitudes, where they provide crops twice per year because of constant temperate conditions year-round.[49]\n",
        "Pollination\n",
        "See also: Fruit tree pollination\n",
        "Apple blossom from an old Ayrshire variety\n",
        "Orchard mason bee on apple bloom, British Columbia, Canada\n",
        "Apples are self-incompatible; they must cross-pollinate to develop fruit. During the flowering each season, apple growers often utilize pollinators to carry pollen. Honey bees are most commonly used. Orchard mason bees are also used as supplemental pollinators in commercial orchards. Bumblebee queens are sometimes present in orchards, but not usually in enough quantity to be significant pollinators.[48]\n",
        "There are four to seven pollination groups in apples, depending on climate:\n",
        "Group A \u2013 Early flowering, 1 to 3 May in England (Gravenstein, Red Astrachan)\n",
        "Group B \u2013 4 to 7 May (Idared, McIntosh)\n",
        "Group C \u2013 Mid-season flowering, 8 to 11 May (Granny Smith, Cox's Orange Pippin)\n",
        "Group D \u2013 Mid/late season flowering, 12 to 15 May (Golden Delicious, Calville blanc d'hiver)\n",
        "Group E \u2013 Late flowering, 16 to 18 May (Braeburn, Reinette d'Orl\u00e9ans)\n",
        "Group F \u2013 19 to 23 May (Suntan)\n",
        "Group H \u2013 24 to 28 May (Court-Pendu Gris) (also called Court-Pendu plat)\n",
        "One cultivar can be pollinated by a compatible cultivar from the same group or close (A with A, or A with B, but not A with C or D).[50]\n",
        "Varieties are sometimes classified by the day of peak bloom in the average 30-day blossom period, with pollenizers selected from varieties within a 6-day overlap period.\n",
        "Maturation and harvest\n",
        "See also: Fruit picking and Fruit tree pruning\n",
        "Cultivars vary in their yield and the ultimate size of the tree, even when grown on the same rootstock. Some cultivars, if left unpruned, will grow very large, which allows them to bear much more fruit, but makes harvesting very difficult. Depending on the tree density (number of trees planted per unit surface area), mature trees typically bear 40\u2013200 kilograms (88\u2013440 lb) of apples each year, though productivity can be close to zero in poor years. Apples are harvested using three-point ladders that are designed to fit amongst the branches. Trees grafted on dwarfing rootstocks will bear about 10\u201380 kilograms (22\u2013180 lb) of fruit per year.[48]\n",
        "Crops ripen at different times of the year according to the variety of apple. Varieties that yield their crop in the summer include Gala, Golden Supreme, McIntosh, Transparent, Primate, Sweet Bough, and Duchess; fall producers include Fuji, Jonagold, Golden Delicious, Red Delicious, Chenango, Gravenstein, Wealthy, McIntosh, Snow, and Blenheim; winter producers include Winesap, Granny Smith, King, Wagener, Swayzie, Greening, and Tolman Sweet.[18]\n",
        "Storage\n",
        "Commercially, apples can be stored for some months in controlled-atmosphere chambers to delay ethylene-induced ripening. Apples are commonly stored in chambers with higher concentrations of carbon dioxide and high air filtration. This prevents ethylene concentrations from rising to higher amounts and preventing ripening from occurring too quickly. Ripening continues when the fruit is removed from storage.[51] For home storage, most varieties of apple can be held for approximately two weeks when kept at the coolest part of the refrigerator (i.e. below 5 \u00b0C). Some types, including the Granny Smith and Fuji, can be stored up to a year without significant degradation.[52][53]\n",
        "Pests and diseases\n",
        "Leaves with significant insect damage\n",
        "Main article: List of apple diseases\n",
        "See also: List of Lepidoptera that feed on Malus\n",
        "Apple trees are susceptible to a number of fungal and bacterial diseases and insect pests. Many commercial orchards pursue an aggressive program of chemical sprays to maintain high fruit quality, tree health, and high yields. A trend in orchard management is the use of organic methods. These ban the use of some pesticides, though some older pesticides are allowed. Organic methods include, for instance, introducing its natural predator to reduce the population of a particular pest.\n",
        "A wide range of pests and diseases can affect the plant; three of the more common diseases/pests are mildew, aphids and apple scab.\n",
        "Mildew: which is characterized by light grey powdery patches appearing on the leaves, shoots and flowers, normally in spring. The flowers will turn a creamy yellow colour and will not develop correctly. This can be treated in a manner not dissimilar from treating Botrytis; eliminating the conditions which caused the disease in the first place and burning the infected plants are among the recommended actions to take.[54]\n",
        "Aphids: There are five species of aphids commonly found on apples: apple grain aphid, rosy apple aphid, apple aphid, spirea aphid and the woolly apple aphid. The aphid species can be identified by their colour, the time of year when they are present and by differences in the cornicles, which are small paired projections from the rear of aphids.[54] Aphids feed on foliage using needle-like mouth parts to suck out plant juices. When present in high numbers, certain species reduce tree growth and vigor.[55]\n",
        "Apple scab: Apple scab causes leaves to develop olive-brown spots with a velvety texture that later turn brown and become cork-like in texture. The disease also affects the fruit, which also develops similar brown spots with velvety or cork-like textures. Apple scab is spread through fungus growing in old apple leaves on the ground and spreads during warm spring weather to infect the new year's growth.[56]\n",
        "Among the most serious disease problems are fireblight, a bacterial disease; and Gymnosporangium rust, and black spot, two fungal diseases.[55] Codling moths and apple maggots are two other pests which affect apple trees. Young apple trees are also prone to mammal pests like mice and deer, which feed on the soft bark of the trees, especially in winter.[56]\n",
        "Production\n",
        "\n",
        "Worldwide apple production\n",
        "About 69 million tonnes of apples were grown worldwide in 2010, with China producing almost half of this total. The United States is the second-leading producer, with more than 6% of world production. The largest exporters of apples in 2009 were China, the U.S., Poland, Italy, Chile, and France while the biggest importers in the same year were Russia, Germany, the UK and the Netherlands.[57]\n",
        "In the United States, more than 60% of all the apples sold commercially are grown in Washington state.[58] Imported apples from New Zealand and other more temperate areas are competing with US production and increasing each year.[59]\n",
        "Most of Australia's apple production is for domestic consumption. Imports from New Zealand have been disallowed under quarantine regulations for fireblight since 1921.[60]\n",
        "Top ten apple producers in 2010\n",
        "Country\tProduction (tonnes)\tFootnote\n",
        " People's Republic of China\t33 265 186\t\n",
        " United States\t4 212 330\t\n",
        " Turkey\t2 600 000\t\n",
        " Italy\t2 204 970\t\n",
        " India\t2 163 400\tIm\n",
        " Poland\t1 858 970\t\n",
        " France\t1 711 230\t\n",
        " Iran\t1 662 430\t\n",
        " Brazil\t1 275 850\t\n",
        " Chile\t1 100 000\tF\n",
        " World\t69 569 612\tA\n",
        "No symbol = official figure, F = FAO estimate, Im = FAO data based on imputation methodology, A = May include official, semi-official or estimated data\n",
        "Source: [1]\n",
        "Other countries with a significant production are Russia, Ukraine, Argentina, Germany and Japan.\n",
        "Human consumption\n",
        "\n",
        "See also: Cooking apple and Cider apple\n",
        "Different kinds of apple cultivars in a supermarket\n",
        "An apple core, the remainder of an apple that has been mostly eaten\n",
        "Apples are often eaten raw. The whole fruit including the skin is suitable for human consumption except for the seeds, which may affect some consumers. The core is often not eaten and is discarded. Varieties bred for raw consumption are termed dessert or table apples.\n",
        "Apples can be canned or juiced. They are milled or pressed to produce apple juice, which may be drunk unfiltered (called apple cider in North America), or filtered. The juice can be fermented to make cider (called hard cider in North America), ciderkin, and vinegar. Through distillation, various alcoholic beverages can be produced, such as applejack, Calvados,[61] and apfelwein. Apple seed oil[62] and pectin may also be produced.\n",
        "Popular uses\n",
        "Apples are an important ingredient in many desserts, such as apple pie, apple crumble, apple crisp and apple cake. They are often eaten baked or stewed, and they can also be dried and eaten or reconstituted (soaked in water, alcohol or some other liquid) for later use. Pur\u00e9ed apples are generally known as apple sauce. Apples are also made into apple butter and apple jelly. They are also used (cooked) in meat dishes.\n",
        "In the UK, a toffee apple is a traditional confection made by coating an apple in hot toffee and allowing it to cool. Similar treats in the US are candy apples (coated in a hard shell of crystallized sugar syrup), and caramel apples, coated with cooled caramel.\n",
        "Apples are eaten with honey at the Jewish New Year of Rosh Hashanah to symbolize a sweet new year.[61]\n",
        "Farms with apple orchards may open them to the public, so consumers may themselves pick the apples they will purchase.[61]\n",
        "Sliced apples turn brown with exposure to air due to the conversion of natural phenolic substances into melanin upon exposure to oxygen.[63] Different cultivars vary in their propensity to brown after slicing.[64] Sliced fruit can be treated with acidulated water to prevent this effect.[63]\n",
        "Organic production\n",
        "Organic Jonathan apples sitting in a sink strainer after being washed.\n",
        "Organic apples are commonly produced in the United States.[65] Organic production is difficult in Europe, though a few orchards have done so with commercial success,[65] using disease-resistant cultivars. A light coating of kaolin, which forms a physical barrier to some pests, also helps prevent apple sun scalding.[48][65]\n",
        "Allergy\n",
        "One form of apple allergy, often found in northern Europe, is called birch-apple syndrome, and is found in people who are also allergic to birch pollen.[66] Allergic reactions are triggered by a protein in apples that is similar to birch pollen, and people affected by this protein can also develop allergies to other fruits, nuts, and vegetables. Reactions, which entail oral allergy syndrome (OAS), generally involve itching and inflammation of the mouth and throat,[66] but in rare cases can also include life-threatening anaphylaxis.[67] This reaction only occurs when raw fruit is consumed\u2014the allergen is neutralized in the cooking process. The variety of apple, maturity and storage conditions can change the amount of allergen present in individual fruits. Long storage times can increase the amount of proteins that cause birch-apple syndrome.[66]\n",
        "In other areas, such as the Mediterranean, some individuals have adverse reactions to apples because of their similarity to peaches.[66] This form of apple allergy also includes OAS, but often has more severe symptoms, such as vomiting, abdominal pain and urticaria, and can be life-threatening. Individuals with this form of allergy can also develop reactions to other fruits and nuts. Cooking does not break down the protein causing this particular reaction, so affected individuals can eat neither raw nor cooked apples. Freshly harvested, over-ripe fruits tend to have the highest levels of the protein that causes this reaction.[66]\n",
        "Breeding efforts have yet to produce a hypoallergenic fruit suitable for either of the two forms of apple allergy.[66]\n",
        "Toxicity of seeds\n",
        "The seeds of apples contain small amounts of amygdalin, a sugar and cyanide compound known as a cyanogenic glycoside. Ingesting small amounts of apple seeds will cause no ill effects, but in extremely large doses can cause adverse reactions. There is only one known case of fatal cyanide poisoning from apple seeds; in this case the individual chewed and swallowed one cup of seeds. It may take several hours before the poison takes effect, as cyanogenic glycosides must be hydrolyzed before the cyanide ion is released.[68]\n",
        "Nutrition\n",
        "\n",
        "Apples, with skin (edible parts)\n",
        "Nutritional value per 100 g (3.5 oz)\n",
        "Energy\t218 kJ (52 kcal)\n",
        "Carbohydrates\t13.81 g\n",
        "- Sugars\t10.39\n",
        "- Dietary fiber\t2.4 g\n",
        "Fat\t0.17 g\n",
        "Protein\t0.26 g\n",
        "Water\t85.56 g\n",
        "Vitamin A equiv.\t3 \u03bcg (0%)\n",
        "- beta-carotene\t27 \u03bcg (0%)\n",
        "- lutein and zeaxanthin\t29 \u03bcg\n",
        "Thiamine (vit. B1)\t0.017 mg (1%)\n",
        "Riboflavin (vit. B2)\t0.026 mg (2%)\n",
        "Niacin (vit. B3)\t0.091 mg (1%)\n",
        "Pantothenic acid (B5)\t0.061 mg (1%)\n",
        "Vitamin B6\t0.041 mg (3%)\n",
        "Folate (vit. B9)\t3 \u03bcg (1%)\n",
        "Vitamin C\t4.6 mg (6%)\n",
        "Vitamin E\t0.18 mg (1%)\n",
        "Vitamin K\t2.2 \u03bcg (2%)\n",
        "Calcium\t6 mg (1%)\n",
        "Iron\t0.12 mg (1%)\n",
        "Magnesium\t5 mg (1%)\n",
        "Manganese\t0.035 mg (2%)\n",
        "Phosphorus\t11 mg (2%)\n",
        "Potassium\t107 mg (2%)\n",
        "Sodium\t1 mg (0%)\n",
        "Zinc\t0.04 mg (0%)\n",
        "Fluoride\t3.3 \u00b5g\n",
        "Link to USDA Database entry\n",
        "Percentages are roughly approximated\n",
        "using US recommendations for adults.\n",
        "Source: USDA Nutrient Database\n",
        "The proverb \"An apple a day keeps the doctor away.\", addressing the health effects of the fruit, dates from 19th century Wales.[69] Preliminary research suggests that apples may reduce the risk of colon cancer, prostate cancer and lung cancer.[70] Apple peels contain ursolic acid which, in rat studies, increases skeletal muscle and brown fat, and decreases white fat, obesity, glucose intolerance, and fatty liver disease.[71] According to the United States Department of Agriculture, a typical apple serving weighs 242 grams and contains 126 calories with significant dietary fiber and vitamin C content.[72]\n",
        "Apple peels are a source of various phytochemicals with unknown nutritional value[63] and possible antioxidant activity in vitro.[73] The predominant phenolic phytochemicals in apples are quercetin, epicatechin, and procyanidin B2.[74]\n",
        "Apple juice concentrate has been found in mice to increase the production of the neurotransmitter acetylcholine.[75] Other studies have shown an \"alleviation of oxidative damage and cognitive decline\" in mice after the administration of apple juice.[76] Fruit flies fed an apple extract lived 10% longer than other flies fed a normal diet.[77]\n",
        "\n"
       ]
      }
     ],
     "prompt_number": 21
    },
    {
     "cell_type": "code",
     "collapsed": false,
     "input": [],
     "language": "python",
     "metadata": {},
     "outputs": []
    }
   ],
   "metadata": {}
  }
 ]
}