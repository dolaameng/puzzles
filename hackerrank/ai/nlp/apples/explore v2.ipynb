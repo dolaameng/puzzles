{
 "metadata": {
  "name": "",
  "signature": "sha256:899ab0a5cceb16ed286ba471f7c69155082c63305a4d41179957b8b12826e5b4"
 },
 "nbformat": 3,
 "nbformat_minor": 0,
 "worksheets": [
  {
   "cells": [
    {
     "cell_type": "code",
     "collapsed": false,
     "input": [
      "import matplotlib.pyplot as plt\n",
      "import numpy as np\n",
      "%matplotlib inline"
     ],
     "language": "python",
     "metadata": {},
     "outputs": [],
     "prompt_number": 1
    },
    {
     "cell_type": "code",
     "collapsed": false,
     "input": [
      "computer_texts = filter(lambda line: len(line.strip()) > 0, open(\"data/apple-computers.txt\").read().split(\"\\n\\n\\n\"))\n",
      "fruit_texts = filter(lambda line: len(line.strip()) > 0, open(\"data/apple-fruit.txt\").read().split(\"\\n\\n\\n\"))"
     ],
     "language": "python",
     "metadata": {},
     "outputs": [],
     "prompt_number": 14
    },
    {
     "cell_type": "code",
     "collapsed": false,
     "input": [
      "len(fruit_texts)"
     ],
     "language": "python",
     "metadata": {},
     "outputs": [
      {
       "metadata": {},
       "output_type": "pyout",
       "prompt_number": 15,
       "text": [
        "15"
       ]
      }
     ],
     "prompt_number": 15
    },
    {
     "cell_type": "code",
     "collapsed": false,
     "input": [
      "print fruit_texts[6]"
     ],
     "language": "python",
     "metadata": {},
     "outputs": [
      {
       "output_type": "stream",
       "stream": "stdout",
       "text": [
        "\n",
        "Red and Green apples in India\n",
        "Main article: List of apple cultivars\n",
        "There are more than 7,500 known cultivars of apples.[35] Cultivars vary in their yield and the ultimate size of the tree, even when grown on the same rootstock.[36] Different cultivars are available for temperate and subtropical climates. The UK's National Fruit Collection, which is the responsibility of the Department of Environment Food and Rural Affairs, has a collection of over 2,000 accessions in Kent.[37] The University of Reading, which is responsible for developing the UK national collection database, provides access to search the national collection. The University of Reading's work is part of the European Cooperative Programme for Plant Genetic Resources of which there are 38 countries participating in the Malus/Pyrus work group.[38]\n",
        "The UK's national fruit collection database contains a wealth of information on the characteristics and origin of many apples, including alternative names for what is essentially the same 'genetic' apple variety. Most of these cultivars are bred for eating fresh (dessert apples), though some are cultivated specifically for cooking (cooking apples) or producing cider. Cider apples are typically too tart and astringent to eat fresh, but they give the beverage a rich flavour that dessert apples cannot.[39]\n",
        "Commercially popular apple cultivars are soft but crisp. Other desired qualities in modern commercial apple breeding are a colourful skin, absence of russeting, ease of shipping, lengthy storage ability, high yields, disease resistance, common apple shape, and developed flavour.[36] Modern apples are generally sweeter than older cultivars, as popular tastes in apples have varied over time. Most North Americans and Europeans favour sweet, subacid apples, but tart apples have a strong minority following.[40] Extremely sweet apples with barely any acid flavour are popular in Asia[40] and especially India.[39]\n",
        "Old cultivars are often oddly shaped, russeted, and have a variety of textures and colours. Some find them to have a better flavour than modern cultivars,[41] but may have other problems which make them commercially unviable from low yield, disease susceptibility, or poor tolerance for storage or transport. A few old cultivars are still produced on a large scale, but many have been preserved by home gardeners and farmers that sell directly to local markets. Many unusual and locally important cultivars with their own unique taste and appearance exist; apple conservation campaigns have sprung up around the world to preserve such local cultivars from extinction. In the United Kingdom, old cultivars such as 'Cox's Orange Pippin' and 'Egremont Russet' are still commercially important even though by modern standards they are low yielding and susceptible to disease.[3]\n",
        "Cultivation\n",
        "\n",
        "Breeding\n",
        "See also: Fruit tree propagation and Malling series\n"
       ]
      }
     ],
     "prompt_number": 25
    },
    {
     "cell_type": "code",
     "collapsed": false,
     "input": [
      "print computer_texts[6]"
     ],
     "language": "python",
     "metadata": {},
     "outputs": [
      {
       "output_type": "stream",
       "stream": "stdout",
       "text": [
        "Apple retail stores allow potential customers to use floor models without making a purchase.\n",
        "(Apple Store, North Michigan Avenue, Chicago, Illinois in 2005)\n",
        "Mac OS X, based on NeXT's OPENSTEP and BSD Unix was released on March 24, 2001, after several years of development. Aimed at consumers and professionals alike, Mac OS X aimed to combine the stability, reliability and security of Unix with the ease of use afforded by an overhauled user interface. To aid users in migrating from Mac OS 9, the new operating system allowed the use of OS 9 applications through Mac OS X's Classic environment.[76]\n",
        "On May 19, 2001, Apple opened the first official Apple Retail Stores in Virginia and California.[77] On July 9, they bought Spruce Technologies, a DVD authoring company. On October 23 of the same year, Apple announced the iPod portable digital audio player, and started selling it on November 10. The product was phenomenally successful \u2014 over 100 million units were sold within six years.[78][79] In 2003, Apple's iTunes Store was introduced, offering online music downloads for $0.99 a song and integration with the iPod. The service quickly became the market leader in online music services, with over 5 billion downloads by June 19, 2008.[80]\n",
        "Since 2001, Apple's design team has progressively abandoned the use of translucent colored plastics first used in the iMac G3. This began with the titanium PowerBook and was followed by the white polycarbonate iBook and the flat-panel iMac.[81][82]\n",
        "2005\u201307: Transition to Intel\n",
        "Main article: Apple's transition to Intel processors\n"
       ]
      }
     ],
     "prompt_number": 26
    },
    {
     "cell_type": "code",
     "collapsed": false,
     "input": [
      "import re\n",
      "def feat(doc):\n",
      "    pat = re.compile(r\"apple\", re.IGNORECASE)\n",
      "    apples = pat.findall(doc)\n",
      "    Apples = [w for w in apples if w.startswith(\"A\")]\n",
      "    return len(Apples) * 1./ len(apples)"
     ],
     "language": "python",
     "metadata": {},
     "outputs": [],
     "prompt_number": 30
    },
    {
     "cell_type": "code",
     "collapsed": false,
     "input": [
      "map(feat, computer_texts)"
     ],
     "language": "python",
     "metadata": {},
     "outputs": [
      {
       "metadata": {},
       "output_type": "pyout",
       "prompt_number": 32,
       "text": [
        "[1.0,\n",
        " 1.0,\n",
        " 1.0,\n",
        " 1.0,\n",
        " 1.0,\n",
        " 1.0,\n",
        " 1.0,\n",
        " 1.0,\n",
        " 1.0,\n",
        " 1.0,\n",
        " 1.0,\n",
        " 1.0,\n",
        " 1.0,\n",
        " 0.9375,\n",
        " 1.0,\n",
        " 1.0,\n",
        " 1.0]"
       ]
      }
     ],
     "prompt_number": 32
    },
    {
     "cell_type": "code",
     "collapsed": false,
     "input": [
      "map(feat, fruit_texts)"
     ],
     "language": "python",
     "metadata": {},
     "outputs": [
      {
       "metadata": {},
       "output_type": "pyout",
       "prompt_number": 33,
       "text": [
        "[0.5,\n",
        " 0.0,\n",
        " 0.1875,\n",
        " 0.07142857142857142,\n",
        " 0.07142857142857142,\n",
        " 0.0,\n",
        " 0.0,\n",
        " 0.17647058823529413,\n",
        " 1.0,\n",
        " 0.3,\n",
        " 0.26666666666666666,\n",
        " 0.0,\n",
        " 0.0,\n",
        " 0.2222222222222222,\n",
        " 0.16]"
       ]
      }
     ],
     "prompt_number": 33
    },
    {
     "cell_type": "code",
     "collapsed": false,
     "input": [
      "fruit_texts[8]"
     ],
     "language": "python",
     "metadata": {},
     "outputs": [
      {
       "metadata": {},
       "output_type": "pyout",
       "prompt_number": 34,
       "text": [
        "'Apple blossom from an old Ayrshire variety'"
       ]
      }
     ],
     "prompt_number": 34
    },
    {
     "cell_type": "code",
     "collapsed": false,
     "input": [],
     "language": "python",
     "metadata": {},
     "outputs": []
    }
   ],
   "metadata": {}
  }
 ]
}