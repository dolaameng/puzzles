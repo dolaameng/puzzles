{
 "metadata": {
  "name": "",
  "signature": "sha256:05028b67b0f7d3ccfe150f3e61efda4aac3779f8ae23a8f52c505b7d14438226"
 },
 "nbformat": 3,
 "nbformat_minor": 0,
 "worksheets": [
  {
   "cells": [
    {
     "cell_type": "code",
     "collapsed": false,
     "input": [
      "data = open(\"data/text.in\").readlines()\n",
      "n = int(data[0])\n",
      "heads = data[1:n+1]\n",
      "tails = data[n+2:]"
     ],
     "language": "python",
     "metadata": {},
     "outputs": [],
     "prompt_number": 68
    },
    {
     "cell_type": "code",
     "collapsed": false,
     "input": [
      "## in sparse high dimension, Jaccard similiary is close to the cosine similiartity"
     ],
     "language": "python",
     "metadata": {},
     "outputs": [],
     "prompt_number": 69
    },
    {
     "cell_type": "code",
     "collapsed": false,
     "input": [
      "import re\n",
      "from sklearn.feature_extraction import text\n",
      "\n",
      "def parse_words(doc):\n",
      "    word_pat = re.compile(r\"\\b[a-zA-Z]+\\b\")\n",
      "    return map(lambda w: w.lower(), [w for w in word_pat.findall(doc) if w not in text.ENGLISH_STOP_WORDS])\n",
      "\n",
      "def jaccard_similiarity(set1, set2):\n",
      "    return len(set1.intersection(set2)) * 1. / len(set1.union(set2))\n",
      "    #return len(set1.intersection(set2)) * 1. / len(set1)*len(set2)\n",
      "\n",
      "def doc_similiarity(doc1, doc2):\n",
      "    wb1, wb2 = parse_words(doc1), parse_words(doc2)\n",
      "    return jaccard_similiarity(set(wb1), set(wb2))*0.9+0.1*(wb1[0]==wb2[0])"
     ],
     "language": "python",
     "metadata": {},
     "outputs": [],
     "prompt_number": 95
    },
    {
     "cell_type": "code",
     "collapsed": false,
     "input": [
      "for ih, h in enumerate(heads):\n",
      "    it = max(enumerate(tails), key = lambda (i, t): doc_similiarity(h, t))[0]\n",
      "    print ih, it"
     ],
     "language": "python",
     "metadata": {},
     "outputs": [
      {
       "output_type": "stream",
       "stream": "stdout",
       "text": [
        "0 1\n",
        "1 0\n",
        "2 2\n"
       ]
      }
     ],
     "prompt_number": 96
    },
    {
     "cell_type": "code",
     "collapsed": false,
     "input": [
      "doca = \"\"\"Paris (English /prs/, Listeni/prs/; French: [pai] ( listen)) is the capital and most populous city of France. It is situated on the River Seine, in the north of the country, at the heart of the le-de-France region. Within its administrative limits (the 20 arrondissements), the city had 2,234,105 inhabitants in 2009 while its metropolitan area is one of the largest population centres in Europe with more than 12 million inhabitants. An important settlement for more than two millennia, by the late 12th century Paris had become a walled cathedral city that was one of Europe's foremost centres of learning and the arts and the largest city in the Western world until the turn of the 18th century. Paris was the focal point for many important political events throughout its history, including the French Revolution. Today it is one of the world's leading business and cultural centres, and its influence in politics, education, entertainment, media, science, fashion and the arts all contribute to its status as one of the world's major cities. The city has one of the largest GDPs in the world, 607 billion (US$845 billion) as of 2011, and as a result of its high concentration of national and international political, cultural and scientific institutions is one of the world's leading tourist destinations. The Paris Region hosts the world headquarters of 30 of the Fortune Global 500 companies in several business districts, notably La Dfense, the largest dedicated business district in Europe. Centuries of cultural and political development have brought Paris a variety of museums, theatres, monuments and architectural styles. Many of its masterpieces such as the Louvre and the Arc de Triomphe are iconic buildings, especially its internationally recognized symbol, the Eiffel Tower. Long regarded as an international centre for the arts, works by history's most famous painters can be found in the Louvre, the Muse d'Orsay and its many other museums and galleries. Paris is a global hub of fashion and has been referred to as the \"international capital of style\", noted for its haute couture tailoring, its high-end boutiques, and the twice-yearly Paris Fashion Week. It is world renowned for its haute cuisine, attracting many of the world's leading chefs. Many of France's most prestigious universities and Grandes coles are in Paris or its suburbs, and France's major newspapers Le Monde, Le Figaro, Libration are based in the city, and Le Parisien in Saint-Ouen near Paris.\"\"\"\n",
      "docb = \"\"\"London had an official population of 8,174,100, making it the most populous municipality in the European Union, and accounting for 12.5% of the UK population. The Greater London Urban Area is the second-largest in the EU with a population of 9,787,426 according to the 2011 census. The London metropolitan area is the largest in the EU with a total population of 13,614,409, while the Greater London Authority puts the population of London metropolitan region at 21 million. London had the largest population of any city in the world from around 1831 to 1925. London contains four World Heritage Sites: the Tower of London; Kew Gardens; the site comprising the Palace of Westminster, Westminster Abbey, and St Margaret's Church; and the historic settlement of Greenwich (in which the Royal Observatory, Greenwich marks the Prime Meridian, 0 longitude, and GMT). Other famous landmarks include Buckingham Palace, the London Eye, Piccadilly Circus, St Paul's Cathedral, Tower Bridge, Trafalgar Square, and The Shard. London is home to numerous museums, galleries, libraries, sporting events and other cultural institutions, including the British Museum, National Gallery, Tate Modern, British Library and 40 West End theatres. The London Underground is the oldest underground railway network in the world.\"\"\"\n",
      "docc = \"\"\"Paris is home to the association football club Paris Saint-Germain FC and the rugby union club Stade Franais. The 80,000-seat Stade de France, built for the 1998 FIFA World Cup, is located in Saint-Denis. Paris hosts the annual French Open Grand Slam tennis tournament on the red clay of Roland Garros. Paris played host to the 1900 and 1924 Summer Olympics, the 1938 and 1998 FIFA World Cup, and the 2007 Rugby World Cup. The city is a major rail, highway, and air-transport hub, served by the two international airports Paris-Charles de Gaulle and Paris-Orly. Opened in 1900, the city's subway system, the Paris Mtro, serves 9 million passengers daily. Paris is the hub of the national road network, and is surrounded by three orbital roads: the Priphrique, the A86 motorway, and the Francilienne motorway in the outer suburbs. The name \"Paris\" is derived from that of its earliest inhabitants, the Gaulish tribe known as the Parisii. The city was called Lutetia (more fully, Lutetia Parisiorum, \"Lutetia of the Parisii\"), during the Roman era of the 1st to the 4th century AD, but during the reign of Julian the Apostate (3603), the city was renamed Paris. It is believed that the name of the Parisii tribe comes from the Celtic Gallic word parisio, meaning \"the working people\" or \"the craftsmen\". Paris has many nicknames, like \"The City of Love\", but its most famous is \"La Ville-Lumire\" (\"The City of Light\"), a name it owes first to its fame as a centre of education and ideas during the Age of Enlightenment. The sobriquet's \"light\" took on a more literal sense when Paris became one of the first European cities to adopt gas street lighting: the Passage des Panoramas was Paris' first gas-lit throughfare from 1817. Since the mid-19th century, Paris has been known as Paname ([panam]) in the Parisian slang called argot (Ltspkr.pngMoi j'suis d'Paname, i.e. \"I'm from Paname\"). The singer Renaud repopularised the term among the younger generation with his 1976 album Amoureux de Paname (\"In love with Paname\").\"\"\"\n",
      "print set(parse_words(doca)).intersection(set(parse_words(docb))), doc_similiarity(doca, docb)\n",
      "print set(parse_words(doca)).intersection(set(parse_words(docc))), doc_similiarity(doca, docc)\n"
     ],
     "language": "python",
     "metadata": {},
     "outputs": [
      {
       "output_type": "stream",
       "stream": "stdout",
       "text": [
        "set(['metropolitan', 'national', 'galleries', 'including', 'cathedral', 'settlement', 'city', 'end', 'area', 'largest', 'populous', 'events', 'million', 'famous', 'cultural', 'world', 'the', 'population', 'region', 'museums', 's', 'theatres', 'tower', 'institutions']) 0.0977375565611\n",
        "set(['major', 'century', 'national', 'it', 'education', 'city', 'la', 'paris', 'france', 'suburbs', 'saint', 'international', 'hub', 'centre', 'million', 'french', 'famous', 'world', 'cities', 'd', 'inhabitants', 's', 'hosts', 'the']) 0.176056338028\n"
       ]
      }
     ],
     "prompt_number": 97
    },
    {
     "cell_type": "code",
     "collapsed": false,
     "input": [
      "doca = \"\"\"The king Prithviraj Chauhan was defeated in 1192 by the Afghan invader Muhammad Ghori who made a concerted effort to conquer northern India. By 1200, Hindu resistance had begun to crumble. Dominance of Muslim dynasties in India was to last for the next five centuries. On the death of Muhammad in 1206, the Turkic slave-general, Qutb-ud-din Aibak, broke away from the Ghurid Dynasty and became the first Sultan of Delhi. He began construction of the Qutb Minar and Quwwat-al-Islam (might of Islam) mosque, the earliest extant mosque in India. Qutb-ud-din faced widespread Hindu rebellions and it was his successor, Iltutmish (121136), who consolidated the Muslim conquest of northern India.. For the next three hundred years, Delhi was ruled by a succession of Turkic and an Afghan, Lodhi dynasty. They built a number of forts and townships that are part of the seven cities of Delhi. Delhi was a major centre of Sufism during this period. The Mamluk Sultanate (Delhi) was overthrown in 1290 by the Khilji dynasty (12901320). Under the second Khilji ruler, Ala-ud-din Khilji, the Delhi sultanate extended its control south of the Narmada River in the Deccan. The Delhi sultanate reached its greatest extent during the reign of Muhammad bin Tughluq (13251351). In an attempt to bring the whole of the Deccan under control, he moved his capital to Daulatabad, Maharashtra in central India, but by moving away from Delhi he lost control of the north and was forced to return to Delhi to restore order. The southern provinces then broke away. In the years following the reign of Firoz Shah Tughlaq (13511388), the Delhi sultanate rapidly began to lose its hold over its northern provinces.\"\"\"\n",
      "docb = \"\"\"The demonym for a Moscow resident is \"\" (moskvich), rendered in English as Muscovite. The city is named after the river (old Russian:  , literally \"the city by the Moskva River\"). The first reference to Moscow dates from 1147 when Yuri Dolgorukiy called upon the prince of the Novgorod-Severski to \"come to me, brother, to Moscow\". Nine years later, in 1156, Prince Yuri Dolgorukiy of Rostov ordered the construction of a wooden wall, the Kremlin, which had to be rebuilt multiple times, to surround the emerging city. After the sacking of 12371238, when the Mongols burned the city to the ground and killed its inhabitants, Moscow recovered and became the capital of the independent Vladimir-Suzdal principality in 1327. Its favorable position on the headwaters of the Volga River contributed to steady expansion. Moscow developed into a stable and prosperous principality, known as Grand Duchy of Moscow, for many years and attracted a large number of refugees from across Russia. Under Ivan I of Moscow the city replaced Tver as a political center of Vladimir-Suzdal and became the sole collector of taxes for the Mongol-Tatar rulers. By paying high tribute, Ivan won an important concession from the Khan. Unlike other principalities, Moscow was not divided among his sons, but was passed intact to his eldest. Moscow's opposition against foreign domination grew. In 1380, prince Dmitry Donskoy of Moscow led a united Russian army to an important victory over the Tatars in the Battle of Kulikovo. The battle, however, was not decisive and only two years later Moscow was sacked by khan Tokhtamysh. Ivan III, in 1480, finally broke the Russian people free from Tatar control, allowing Moscow to become the center of power in Russia. Under Ivan III the city became the capital of an empire that would eventually encompass all of present-day Russia and other lands.\"\"\"\n",
      "docc = \"\"\"Delhi was captured and sacked by Timur Lenk in 1398. Near Delhi, Timur massacred 100,000 captives. Delhi's decline continued under the Sayyid dynasty (14141451), until the sultanate was reduced to Delhi and its hinterland. Under the Afghan Lodhi dynasty (14511526), the Delhi sultanate recovered control of the Punjab and the Gangetic plain to once again achieve domination over northern India. However, the recovery was short-lived and in 1526 the sultanate was destroyed by Babur, founder of the Mughal dynasty. In 1526, Babur, a descendant of Genghis Khan and Timur, from the Fergana Valley in modern-day Uzbekistan, invaded India, defeated the last Lodhi sultan in the First Battle of Panipat and founded the Mughal Empire that ruled from Delhi and Agra. The Mughal dynasty ruled Delhi for more than three centuries, with a sixteen-year hiatus during the reign of Sher Shah Suri, from 1540 to 1556. In 1553, the Hindu king, Hemu Vikramaditya acceded to the throne of Delhi by defeating forces of Mughal Emperor Humayun at Agra and Delhi. However, the Mughals re-established their rule after Akbar's army defeated Hemu during the Second Battle of Panipat in 1556. Shah Jahan built the seventh city of Delhi that bears his name Shahjahanabad, which served as the capital of the Mughal Empire from 1638 and is today known as the Old City or Old Delhi. After 1720, the Mughal Empire's influence declined rapidly as the Hindu Maratha Empire rose to prominence. In 1737, Maratha forces sacked Delhi following their victory against the Mughals in the First Battle of Delhi. In 1739, the Mughal Empire lost the Battle of Karnal, following which the victorious forces of Nader Shah, the Turkic ruler of the Afsharid dynasty, invaded and looted Delhi, carrying away many treasures, including the Peacock Throne. A treaty signed in 1752 made Marathas the protectors of the Mughal throne in Delhi.\"\"\"\n",
      "print set(parse_words(doca)).intersection(set(parse_words(docb))), doc_similiarity(doca, docb)\n",
      "print set(parse_words(doca)).intersection(set(parse_words(docc))), doc_similiarity(doca, docc)"
     ],
     "language": "python",
     "metadata": {},
     "outputs": [
      {
       "output_type": "stream",
       "stream": "stdout",
       "text": [
        "set(['control', 'in', 'under', 'number', 'years', 'construction', 'broke', 'capital', 'the', 'river', 'by']) 0.142127659574\n",
        "set(['control', 'india', 'turkic', 'dynasty', 'second', 'in', 'rapidly', 'built', 'northern', 'hindu', 'away', 'under', 'shah', 'capital', 'centuries', 'ruler', 'delhi', 'reign', 'defeated', 'afghan', 'sultanate', 'ruled', 'king', 'lost', 'sultan', 'following', 'lodhi', 'the']) 0.122926829268\n"
       ]
      }
     ],
     "prompt_number": 98
    },
    {
     "cell_type": "code",
     "collapsed": false,
     "input": [
      "## how about cosine similiarity then"
     ],
     "language": "python",
     "metadata": {},
     "outputs": [],
     "prompt_number": 94
    },
    {
     "cell_type": "code",
     "collapsed": false,
     "input": [
      "import numpy as np\n",
      "def vectorize(docs):\n",
      "    word_bags = map(lambda d: set(parse_words(d)), docs)\n",
      "    word_hash = reduce(lambda s1,s2: s1.union(s2), word_bags)\n",
      "    doc_vecs = map(lambda wb: np.asarray([1 if w in wb else 0 for w in word_hash]), word_bags)\n",
      "    return doc_vecs"
     ],
     "language": "python",
     "metadata": {},
     "outputs": [],
     "prompt_number": 51
    },
    {
     "cell_type": "code",
     "collapsed": false,
     "input": [
      "vectorize(heads+tails)"
     ],
     "language": "python",
     "metadata": {},
     "outputs": [
      {
       "metadata": {},
       "output_type": "pyout",
       "prompt_number": 52,
       "text": [
        "[array([0, 1, 0, 0, 0, 0, 0, 0, 0, 1, 0, 0, 0, 0, 0, 0, 1, 0, 1, 0, 1, 0, 0,\n",
        "        0, 0, 1, 0, 0, 0, 0, 0, 0, 0, 0, 1, 0, 0, 1, 0, 0, 0, 1, 0, 0, 0, 0,\n",
        "        0, 1, 1, 0, 0, 1, 0, 0, 0, 0, 1, 0, 0, 0, 0, 0, 1, 0, 1, 1, 0, 0, 0,\n",
        "        1, 1, 0, 0, 0, 0, 0, 0, 0, 0, 0, 0, 0, 0, 1, 0, 0, 0, 1, 0, 0, 1, 0,\n",
        "        0, 0, 0, 0, 0, 0, 0, 0, 0, 0, 1, 0, 0, 0, 0, 0, 0, 0, 0, 0, 0, 0, 0,\n",
        "        0, 0, 0, 0, 0, 1, 1, 1, 0, 0, 1, 0, 0, 0, 0, 0, 0, 0, 0, 0, 1, 0, 0,\n",
        "        0, 0, 1, 0, 0, 1, 0, 0, 0, 1, 0, 0, 0, 0, 0, 0, 0, 0, 0, 0, 0, 0, 1,\n",
        "        1, 0, 0, 0, 1, 0, 0, 0, 0, 0, 0, 0, 1, 1, 0, 0, 0, 1, 1, 0, 1, 0, 0,\n",
        "        0, 1, 0, 0, 0, 0, 0, 0, 0, 1, 0, 0, 0, 0, 0, 1, 0, 0, 0, 0, 0, 0, 0,\n",
        "        0, 0, 0, 0, 0, 0, 0, 0, 1, 0, 0, 0, 0, 0, 0, 1, 0, 1, 0, 0, 0, 0, 0,\n",
        "        0, 0, 0, 0, 0, 0, 0, 0, 1, 1, 1, 0, 0, 1, 0, 0, 1, 0, 1, 0, 1, 1, 0,\n",
        "        0, 1, 0, 0, 0, 0, 0, 0, 0, 0, 0, 0, 0, 1, 0, 1, 0, 1, 0, 1, 0, 0, 0,\n",
        "        0, 0, 0, 1, 1, 0, 1, 0, 1, 0, 0, 1, 1, 0, 0, 1, 0, 0, 0, 0, 1, 0, 0,\n",
        "        0, 0]),\n",
        " array([0, 0, 0, 0, 0, 0, 0, 0, 0, 0, 0, 0, 0, 0, 0, 0, 0, 0, 0, 0, 0, 0, 1,\n",
        "        1, 0, 0, 0, 0, 0, 0, 0, 0, 0, 0, 0, 0, 1, 0, 0, 1, 1, 0, 0, 0, 1, 0,\n",
        "        1, 0, 0, 1, 0, 1, 0, 0, 0, 1, 1, 1, 0, 0, 0, 0, 1, 0, 1, 1, 1, 0, 0,\n",
        "        0, 1, 0, 0, 0, 1, 0, 0, 0, 0, 0, 1, 0, 0, 1, 0, 0, 0, 0, 0, 1, 0, 0,\n",
        "        0, 0, 1, 0, 0, 0, 0, 0, 0, 0, 0, 0, 0, 1, 0, 1, 0, 1, 0, 1, 0, 1, 0,\n",
        "        0, 0, 0, 0, 0, 1, 0, 0, 1, 0, 1, 1, 1, 1, 0, 1, 0, 0, 0, 1, 1, 0, 0,\n",
        "        0, 0, 0, 0, 0, 0, 0, 0, 0, 1, 0, 0, 0, 0, 1, 0, 0, 1, 0, 0, 0, 0, 0,\n",
        "        0, 0, 0, 1, 0, 0, 0, 0, 1, 0, 0, 1, 0, 0, 0, 1, 0, 0, 0, 0, 0, 1, 0,\n",
        "        0, 0, 0, 0, 0, 0, 1, 0, 0, 0, 0, 1, 0, 0, 0, 0, 1, 1, 1, 0, 0, 0, 0,\n",
        "        1, 0, 1, 0, 0, 0, 0, 0, 1, 0, 0, 0, 0, 1, 1, 1, 0, 0, 0, 1, 0, 1, 0,\n",
        "        0, 1, 0, 1, 0, 1, 0, 0, 1, 0, 1, 0, 0, 0, 0, 0, 0, 1, 0, 0, 0, 0, 0,\n",
        "        0, 1, 0, 0, 0, 0, 0, 0, 0, 0, 0, 0, 1, 0, 0, 0, 1, 1, 0, 0, 1, 1, 0,\n",
        "        0, 0, 1, 0, 0, 0, 0, 0, 0, 0, 0, 0, 0, 0, 1, 1, 0, 0, 0, 1, 0, 1, 0,\n",
        "        0, 1]),\n",
        " array([1, 0, 1, 1, 1, 1, 1, 1, 0, 0, 1, 0, 0, 0, 1, 0, 0, 0, 0, 0, 0, 1, 0,\n",
        "        0, 0, 0, 0, 0, 0, 1, 1, 0, 1, 1, 0, 0, 0, 0, 0, 0, 0, 0, 1, 0, 0, 0,\n",
        "        0, 0, 0, 0, 1, 0, 1, 0, 1, 0, 0, 0, 0, 0, 1, 0, 0, 1, 1, 0, 0, 1, 1,\n",
        "        0, 1, 0, 0, 0, 0, 1, 1, 0, 0, 0, 0, 0, 1, 0, 0, 0, 0, 0, 0, 0, 0, 0,\n",
        "        0, 0, 0, 1, 0, 0, 0, 0, 0, 1, 1, 1, 0, 0, 0, 0, 0, 0, 0, 0, 1, 0, 1,\n",
        "        1, 1, 1, 1, 1, 0, 0, 0, 0, 0, 1, 0, 0, 0, 0, 0, 0, 1, 1, 0, 0, 0, 0,\n",
        "        1, 0, 0, 1, 1, 0, 0, 0, 0, 1, 0, 1, 1, 1, 0, 1, 0, 0, 1, 0, 1, 0, 0,\n",
        "        0, 0, 0, 0, 0, 0, 0, 0, 0, 0, 0, 0, 0, 0, 0, 0, 0, 0, 0, 0, 0, 0, 1,\n",
        "        0, 0, 0, 1, 0, 0, 0, 1, 1, 0, 0, 0, 1, 0, 1, 0, 0, 0, 1, 0, 1, 0, 0,\n",
        "        0, 0, 0, 1, 1, 1, 0, 1, 0, 0, 0, 0, 1, 0, 0, 1, 1, 0, 1, 0, 0, 0, 0,\n",
        "        0, 0, 0, 0, 0, 0, 1, 0, 0, 0, 0, 0, 1, 0, 1, 1, 0, 0, 1, 0, 0, 0, 0,\n",
        "        0, 1, 0, 1, 1, 1, 1, 1, 1, 0, 0, 1, 0, 0, 0, 0, 1, 1, 1, 0, 0, 0, 1,\n",
        "        0, 0, 0, 0, 0, 1, 0, 0, 0, 0, 1, 0, 0, 0, 0, 1, 0, 0, 1, 0, 0, 0, 0,\n",
        "        0, 0]),\n",
        " array([0, 0, 0, 0, 0, 0, 0, 0, 1, 0, 0, 0, 0, 1, 1, 0, 0, 0, 0, 1, 0, 1, 0,\n",
        "        0, 1, 0, 0, 1, 0, 0, 0, 1, 0, 0, 0, 0, 0, 0, 0, 0, 0, 0, 0, 0, 0, 1,\n",
        "        0, 0, 0, 0, 0, 0, 0, 0, 0, 0, 0, 0, 0, 0, 0, 0, 0, 0, 0, 0, 0, 0, 0,\n",
        "        0, 1, 1, 0, 0, 0, 0, 0, 0, 0, 0, 0, 0, 0, 0, 0, 0, 0, 1, 0, 0, 0, 0,\n",
        "        0, 0, 0, 0, 0, 1, 1, 0, 0, 0, 1, 0, 1, 0, 0, 0, 0, 0, 0, 0, 0, 0, 0,\n",
        "        0, 0, 0, 0, 0, 0, 0, 0, 0, 0, 1, 1, 0, 0, 0, 0, 0, 0, 0, 0, 0, 1, 1,\n",
        "        0, 1, 0, 0, 0, 0, 1, 1, 0, 1, 0, 0, 0, 1, 0, 0, 0, 0, 0, 0, 1, 0, 0,\n",
        "        1, 1, 1, 0, 0, 1, 1, 1, 0, 0, 1, 1, 0, 0, 0, 0, 0, 0, 0, 0, 0, 0, 0,\n",
        "        0, 0, 0, 0, 0, 1, 0, 0, 0, 0, 0, 0, 0, 0, 0, 0, 0, 0, 1, 0, 0, 1, 1,\n",
        "        0, 1, 0, 0, 0, 0, 1, 0, 0, 0, 0, 1, 1, 1, 0, 1, 0, 0, 0, 0, 1, 0, 0,\n",
        "        1, 0, 1, 0, 1, 0, 0, 0, 0, 0, 1, 1, 0, 0, 0, 1, 0, 0, 0, 0, 0, 0, 0,\n",
        "        0, 0, 0, 0, 0, 0, 0, 0, 0, 0, 0, 0, 0, 0, 1, 0, 0, 1, 1, 0, 0, 0, 0,\n",
        "        0, 1, 0, 0, 0, 0, 0, 0, 0, 0, 0, 0, 0, 0, 0, 1, 0, 0, 0, 0, 0, 0, 0,\n",
        "        1, 0]),\n",
        " array([0, 0, 0, 0, 0, 0, 0, 0, 0, 0, 0, 0, 0, 0, 0, 0, 0, 0, 0, 1, 0, 0, 0,\n",
        "        0, 0, 0, 1, 0, 0, 0, 0, 0, 0, 0, 0, 0, 0, 0, 0, 0, 0, 0, 0, 1, 0, 0,\n",
        "        1, 1, 1, 0, 0, 0, 0, 1, 0, 0, 0, 0, 1, 0, 0, 0, 0, 0, 0, 0, 0, 0, 0,\n",
        "        0, 1, 0, 1, 0, 0, 0, 0, 0, 0, 0, 0, 0, 0, 0, 1, 1, 1, 0, 0, 0, 1, 1,\n",
        "        1, 0, 0, 0, 0, 0, 0, 1, 1, 0, 0, 0, 0, 0, 0, 0, 1, 0, 0, 0, 0, 0, 0,\n",
        "        0, 0, 0, 0, 0, 1, 1, 0, 0, 1, 0, 0, 0, 0, 1, 0, 1, 0, 0, 0, 0, 0, 0,\n",
        "        0, 0, 0, 0, 0, 0, 0, 0, 0, 1, 0, 0, 0, 0, 0, 0, 1, 0, 0, 0, 0, 0, 0,\n",
        "        1, 0, 0, 0, 0, 0, 0, 0, 0, 0, 0, 0, 0, 0, 0, 0, 0, 0, 0, 1, 1, 0, 0,\n",
        "        0, 0, 0, 0, 0, 0, 0, 0, 0, 0, 0, 0, 0, 0, 0, 0, 0, 0, 0, 0, 0, 0, 0,\n",
        "        0, 0, 0, 0, 0, 0, 0, 0, 0, 0, 1, 0, 1, 0, 0, 1, 0, 0, 0, 0, 0, 0, 1,\n",
        "        0, 0, 0, 0, 0, 0, 0, 1, 0, 0, 0, 0, 0, 0, 0, 0, 0, 0, 1, 0, 0, 1, 0,\n",
        "        0, 1, 0, 0, 0, 0, 0, 0, 0, 0, 0, 0, 0, 0, 0, 0, 1, 0, 0, 0, 0, 0, 0,\n",
        "        1, 1, 0, 0, 0, 0, 0, 0, 0, 0, 0, 0, 0, 0, 0, 1, 0, 0, 0, 0, 0, 0, 1,\n",
        "        0, 0]),\n",
        " array([1, 0, 1, 0, 0, 0, 0, 0, 0, 0, 0, 1, 1, 0, 1, 1, 0, 1, 0, 0, 0, 1, 0,\n",
        "        0, 0, 0, 0, 0, 1, 0, 0, 0, 0, 0, 0, 1, 0, 0, 1, 0, 0, 0, 0, 0, 0, 0,\n",
        "        0, 0, 0, 0, 0, 0, 0, 0, 0, 0, 0, 0, 0, 1, 1, 1, 0, 0, 1, 0, 0, 0, 0,\n",
        "        0, 1, 0, 0, 1, 0, 0, 0, 1, 1, 1, 0, 1, 1, 0, 0, 0, 0, 0, 1, 0, 0, 0,\n",
        "        0, 1, 0, 1, 1, 0, 0, 0, 0, 0, 0, 0, 0, 0, 1, 0, 0, 0, 1, 0, 0, 0, 0,\n",
        "        0, 0, 0, 0, 0, 1, 0, 0, 0, 0, 1, 0, 0, 0, 0, 0, 0, 1, 0, 0, 0, 0, 0,\n",
        "        1, 0, 0, 0, 0, 0, 0, 0, 1, 1, 1, 1, 0, 1, 0, 0, 0, 0, 0, 1, 0, 1, 0,\n",
        "        0, 0, 0, 0, 0, 0, 0, 0, 0, 1, 0, 0, 0, 0, 1, 0, 1, 0, 0, 0, 0, 0, 0,\n",
        "        1, 0, 1, 0, 1, 0, 0, 0, 0, 0, 1, 0, 0, 1, 0, 0, 0, 0, 0, 1, 1, 0, 0,\n",
        "        0, 0, 0, 0, 0, 1, 0, 0, 0, 1, 0, 0, 1, 0, 0, 1, 0, 0, 0, 0, 0, 0, 0,\n",
        "        0, 0, 0, 0, 0, 0, 0, 0, 0, 0, 0, 0, 0, 0, 0, 0, 0, 0, 1, 1, 0, 0, 1,\n",
        "        1, 1, 1, 0, 0, 0, 0, 0, 0, 1, 1, 0, 0, 0, 0, 0, 0, 1, 0, 0, 0, 0, 1,\n",
        "        0, 0, 0, 0, 0, 0, 0, 1, 0, 1, 0, 0, 0, 1, 0, 1, 1, 1, 0, 0, 0, 0, 0,\n",
        "        0, 0])]"
       ]
      }
     ],
     "prompt_number": 52
    },
    {
     "cell_type": "code",
     "collapsed": false,
     "input": [
      "import scipy as sp\n",
      "from scipy import spatial\n",
      "def doc_similiarity(doc_vec1, doc_vec2):\n",
      "    return 1-spatial.distance.cosine(doc_vec1, doc_vec2)\n",
      "\n",
      "doc_vecs = vectorize(heads + tails)\n",
      "head_vecs, tail_vecs = doc_vecs[:n], doc_vecs[n:]\n",
      "\n",
      "for ih, h in enumerate(head_vecs):\n",
      "    it = max(enumerate(tail_vecs), key = lambda (i, t): doc_similiarity(h, t))[0]\n",
      "    print ih, it"
     ],
     "language": "python",
     "metadata": {},
     "outputs": [
      {
       "output_type": "stream",
       "stream": "stdout",
       "text": [
        "0 1\n",
        "1 0\n",
        "2 2\n"
       ]
      }
     ],
     "prompt_number": 58
    },
    {
     "cell_type": "code",
     "collapsed": false,
     "input": [],
     "language": "python",
     "metadata": {},
     "outputs": []
    },
    {
     "cell_type": "code",
     "collapsed": false,
     "input": [
      "## TIIDF\n",
      "#n = input()\n",
      "#heads = [raw_input() for _ in xrange(n)]\n",
      "#raw_input()\n",
      "#tails = [raw_input() for _ in xrange(n)]\n",
      "\n",
      "import scipy as sp\n",
      "from scipy import spatial\n",
      "def doc_similiarity(doc_vec1, doc_vec2):\n",
      "    return 1-spatial.distance.cosine(doc_vec1.toarray().flatten(), doc_vec2.toarray().flatten())\n",
      "\n",
      "from sklearn.feature_extraction import text\n",
      "tfidf = text.TfidfVectorizer(ngram_range=(1, 1), min_df=1, max_df=1.0, stop_words=\"english\" )\n",
      "doc_vecs = tfidf.fit_transform(heads + tails)\n",
      "head_vecs, tail_vecs = doc_vecs[:n], doc_vecs[n:]\n",
      "\n",
      "for ih, h in enumerate(head_vecs):\n",
      "    it = max(enumerate(tail_vecs), key = lambda (i, t): doc_similiarity(h, t))[0]\n",
      "    print ih, it"
     ],
     "language": "python",
     "metadata": {},
     "outputs": [
      {
       "output_type": "stream",
       "stream": "stdout",
       "text": [
        "0 1\n",
        "1 0\n",
        "2 2\n"
       ]
      }
     ],
     "prompt_number": 109
    },
    {
     "cell_type": "code",
     "collapsed": false,
     "input": [],
     "language": "python",
     "metadata": {},
     "outputs": []
    }
   ],
   "metadata": {}
  }
 ]
}