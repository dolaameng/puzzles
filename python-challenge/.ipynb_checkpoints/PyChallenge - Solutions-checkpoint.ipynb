{
 "metadata": {
  "name": ""
 },
 "nbformat": 3,
 "nbformat_minor": 0,
 "worksheets": [
  {
   "cells": [
    {
     "cell_type": "code",
     "collapsed": false,
     "input": [
      "from common import solution_url\n",
      "import string\n",
      "from collections import OrderedDict\n",
      "import re\n",
      "from urllib2 import urlopen\n",
      "import cPickle"
     ],
     "language": "python",
     "metadata": {},
     "outputs": [],
     "prompt_number": 49
    },
    {
     "cell_type": "code",
     "collapsed": false,
     "input": [
      "## solution 0\n",
      "@solution_url\n",
      "def solution0():\n",
      "    return 2 ** 38\n",
      "\n",
      "print solution0()"
     ],
     "language": "python",
     "metadata": {},
     "outputs": [
      {
       "output_type": "stream",
       "stream": "stdout",
       "text": [
        "http://www.pythonchallenge.com/pc/def/274877906944.html\n"
       ]
      }
     ],
     "prompt_number": 19
    },
    {
     "cell_type": "code",
     "collapsed": false,
     "input": [
      "## solution 1\n",
      "@solution_url\n",
      "def solution1():\n",
      "    word = \"map\"\n",
      "    letters = string.letters\n",
      "    letters_shifted = letters[2:] + letters[:2]\n",
      "    tab = string.maketrans(letters, letters_shifted)\n",
      "    return string.translate(word, tab)\n",
      "\n",
      "print solution1()"
     ],
     "language": "python",
     "metadata": {},
     "outputs": [
      {
       "output_type": "stream",
       "stream": "stdout",
       "text": [
        "http://www.pythonchallenge.com/pc/def/ocr.html\n"
       ]
      }
     ],
     "prompt_number": 20
    },
    {
     "cell_type": "code",
     "collapsed": false,
     "input": [
      "## solution 2\n",
      "@solution_url\n",
      "def solution2(txt_file = 'problem3.txt'):\n",
      "    text = open(txt_file).read()\n",
      "    od = OrderedDict()\n",
      "    for c in text:\n",
      "        od[c] = od.get(c, 0) + 1\n",
      "    return ''.join([c for c in od if od[c] == 1])\n",
      "\n",
      "print solution2()"
     ],
     "language": "python",
     "metadata": {},
     "outputs": [
      {
       "output_type": "stream",
       "stream": "stdout",
       "text": [
        "http://www.pythonchallenge.com/pc/def/equality.html\n"
       ]
      }
     ],
     "prompt_number": 21
    },
    {
     "cell_type": "code",
     "collapsed": false,
     "input": [
      "## solution3\n",
      "@solution_url\n",
      "def solution3(f = \"problem4.txt\"):\n",
      "    text = open(f).read()\n",
      "    pat = re.compile(r\"[^A-Z][A-Z]{3}([a-z])[A-Z]{3}[^A-Z]\")\n",
      "    return ''.join(pat.findall(text))\n",
      "\n",
      "print solution3()"
     ],
     "language": "python",
     "metadata": {},
     "outputs": [
      {
       "output_type": "stream",
       "stream": "stdout",
       "text": [
        "http://www.pythonchallenge.com/pc/def/linkedlist.html\n"
       ]
      }
     ],
     "prompt_number": 24
    },
    {
     "cell_type": "code",
     "collapsed": false,
     "input": [
      "## solution4\n",
      "@solution_url\n",
      "def solution4(url = \"http://www.pythonchallenge.com/pc/def/linkedlist.php?nothing=%s\", \n",
      "              nothing = \"12345\"):\n",
      "    pat = re.compile(r\"next nothing is (\\d+)\")\n",
      "    for _ in xrange(400):\n",
      "        try:\n",
      "            msg = urlopen(url % nothing).read()\n",
      "            nothing = pat.findall(msg)[0]\n",
      "            #print msg\n",
      "        except Exception, ex:\n",
      "            #print msg\n",
      "            if \"Divide by two\" in msg:\n",
      "                nothing = str(int(nothing) / 2)\n",
      "            else:\n",
      "                break\n",
      "    return msg.split(\".\")[0]\n",
      "\n",
      "%time print solution4()"
     ],
     "language": "python",
     "metadata": {},
     "outputs": [
      {
       "output_type": "stream",
       "stream": "stdout",
       "text": [
        "http://www.pythonchallenge.com/pc/def/peak.html\n",
        "CPU times: user 159 ms, sys: 80.9 ms, total: 240 ms\n",
        "Wall time: 13.6 s\n"
       ]
      }
     ],
     "prompt_number": 48
    },
    {
     "cell_type": "code",
     "collapsed": false,
     "input": [
      "## solution 5\n",
      "banner = cPickle.load(open('banner.p'))\n",
      "for line in banner:\n",
      "    print ''.join(map(lambda (s, times): s*times, line))\n",
      "    \n",
      "@solution_url\n",
      "def solution5():\n",
      "    return 'channel'\n",
      "\n",
      "print solution5()"
     ],
     "language": "python",
     "metadata": {},
     "outputs": [
      {
       "output_type": "stream",
       "stream": "stdout",
       "text": [
        "                                                                                               \n",
        "              #####                                                                      ##### \n",
        "               ####                                                                       #### \n",
        "               ####                                                                       #### \n",
        "               ####                                                                       #### \n",
        "               ####                                                                       #### \n",
        "               ####                                                                       #### \n",
        "               ####                                                                       #### \n",
        "               ####                                                                       #### \n",
        "      ###      ####   ###         ###       #####   ###    #####   ###          ###       #### \n",
        "   ###   ##    #### #######     ##  ###      #### #######   #### #######     ###  ###     #### \n",
        "  ###     ###  #####    ####   ###   ####    #####    ####  #####    ####   ###     ###   #### \n",
        " ###           ####     ####   ###    ###    ####     ####  ####     ####  ###      ####  #### \n",
        " ###           ####     ####          ###    ####     ####  ####     ####  ###       ###  #### \n",
        "####           ####     ####     ##   ###    ####     ####  ####     #### ####       ###  #### \n",
        "####           ####     ####   ##########    ####     ####  ####     #### ##############  #### \n",
        "####           ####     ####  ###    ####    ####     ####  ####     #### ####            #### \n",
        "####           ####     #### ####     ###    ####     ####  ####     #### ####            #### \n",
        " ###           ####     #### ####     ###    ####     ####  ####     ####  ###            #### \n",
        "  ###      ##  ####     ####  ###    ####    ####     ####  ####     ####   ###      ##   #### \n",
        "   ###    ##   ####     ####   ###########   ####     ####  ####     ####    ###    ##    #### \n",
        "      ###     ######    #####    ##    #### ######    ###########    #####      ###      ######\n",
        "                                                                                               \n",
        "http://www.pythonchallenge.com/pc/def/channel.html\n"
       ]
      }
     ],
     "prompt_number": 54
    },
    {
     "cell_type": "code",
     "collapsed": false,
     "input": [],
     "language": "python",
     "metadata": {},
     "outputs": []
    }
   ],
   "metadata": {}
  }
 ]
}